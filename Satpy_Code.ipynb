{
 "cells": [
  {
   "cell_type": "code",
   "execution_count": 1,
   "id": "e18f5209",
   "metadata": {},
   "outputs": [],
   "source": [
    "%load_ext autoreload\n",
    "%autoreload 2\n",
    "\n",
    "import dask\n",
    "dask.config.set(num_workers=8)\n",
    "\n",
    "import satpy\n",
    "satpy.config.set({'cache_dir': \"D:/sat_data/cache/\"})\n",
    "satpy.config.set({'cache_sensor_angles': True})\n",
    "satpy.config.set({'cache_lonlats': True})\n",
    "\n",
    "from dask.diagnostics import Profiler, ResourceProfiler, visualize\n",
    "from datetime import datetime\n",
    "from satpy import Scene\n",
    "from glob import glob\n",
    "import numpy as np\n",
    "import os\n",
    "\n",
    "from datetime import datetime\n",
    "\n",
    "import warnings\n",
    "warnings.filterwarnings('ignore')\n",
    "\n",
    "from satpy.utils import debug_on\n",
    "#debug_on()"
   ]
  },
  {
   "cell_type": "code",
   "execution_count": 5,
   "id": "7c933aab",
   "metadata": {
    "scrolled": false
   },
   "outputs": [
    {
     "name": "stderr",
     "output_type": "stream",
     "text": [
      "cannot convert float NaN to integer\n"
     ]
    },
    {
     "name": "stdout",
     "output_type": "stream",
     "text": [
      "20231030_0830 44.71735\n"
     ]
    }
   ],
   "source": [
    "curfile = 'D:/sat_data/ahi_main/in/0840/HS_H09_20231029_0840_B07_FLDK_R20_S0110.DAT'\n",
    "tod = 'D:/sat_data/ahi_main/out/'\n",
    "\n",
    "\n",
    "bbox = (-1600000, -2770000, 690000, -1040000)\n",
    "\n",
    "comp = 'true_color_flames'\n",
    "\n",
    "idirs = glob('D:/sat_data/ahi_main/in/*0830*')\n",
    "idirs.sort()\n",
    "idirs.reverse()\n",
    "\n",
    "for cdir in idirs:\n",
    "    ifiles_l15 = glob(cdir+'/*.DAT')\n",
    "    if len(ifiles_l15) < 5:\n",
    "        continue\n",
    "    curf = ifiles_l15[0]\n",
    "    pos = curf.find('HS_H')\n",
    "    dtstr = curf[pos+7:pos+7+13]\n",
    "    outf = f'{tod}/{comp}_{dtstr}00.png'\n",
    "    st = datetime.utcnow()\n",
    "    if not os.path.isfile(outf):\n",
    "\n",
    "        scn = Scene(ifiles_l15, reader='ahi_hsd')\n",
    "        #scn.load(['fire_radiative_power'], generate=False)\n",
    "        scn.load([comp], generate=False)\n",
    "        #scn2 = scn.crop(xy_bbox = bbox)\n",
    "        scn3 = scn.resample(scn.coarsest_area(), resampler='native')\n",
    "        scn3.save_datasets(base_dir=tod,  fill_value=0, writer='simple_image')\n",
    "        #scn3.save_datasets(base_dir=tod, enhance=False, dtype=np.float32, fill_value=0)\n",
    "\n",
    "    en = datetime.utcnow()\n",
    "    print(dtstr, (en-st).total_seconds())"
   ]
  },
  {
   "cell_type": "code",
   "execution_count": null,
   "id": "9df73d38",
   "metadata": {},
   "outputs": [],
   "source": []
  },
  {
   "cell_type": "code",
   "execution_count": null,
   "id": "0a33b5f5",
   "metadata": {},
   "outputs": [],
   "source": []
  }
 ],
 "metadata": {
  "kernelspec": {
   "display_name": "Python 3 (ipykernel)",
   "language": "python",
   "name": "python3"
  },
  "language_info": {
   "codemirror_mode": {
    "name": "ipython",
    "version": 3
   },
   "file_extension": ".py",
   "mimetype": "text/x-python",
   "name": "python",
   "nbconvert_exporter": "python",
   "pygments_lexer": "ipython3",
   "version": "3.11.7"
  }
 },
 "nbformat": 4,
 "nbformat_minor": 5
}
