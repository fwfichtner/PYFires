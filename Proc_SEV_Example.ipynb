{
 "cells": [
  {
   "cell_type": "code",
   "execution_count": 4,
   "id": "e18f5209",
   "metadata": {},
   "outputs": [
    {
     "name": "stdout",
     "output_type": "stream",
     "text": [
      "The autoreload extension is already loaded. To reload it, use:\n",
      "  %reload_ext autoreload\n"
     ]
    }
   ],
   "source": [
    "%load_ext autoreload\n",
    "%autoreload 2\n",
    "\n",
    "import dask\n",
    "dask.config.set(num_workers=8)\n",
    "\n",
    "import satpy\n",
    "satpy.config.set({'cache_dir': \"D:/sat_data/cache/\"})\n",
    "satpy.config.set({'cache_sensor_angles': True})\n",
    "satpy.config.set({'cache_lonlats': True})\n",
    "\n",
    "from dask.diagnostics import Profiler, ResourceProfiler, visualize\n",
    "from datetime import datetime\n",
    "from satpy import Scene\n",
    "from glob import glob\n",
    "import numpy as np\n",
    "\n",
    "\n",
    "import warnings\n",
    "warnings.filterwarnings('ignore')\n",
    "\n",
    "#debug_on()"
   ]
  },
  {
   "cell_type": "code",
   "execution_count": 7,
   "id": "7c933aab",
   "metadata": {
    "scrolled": false
   },
   "outputs": [
    {
     "name": "stderr",
     "output_type": "stream",
     "text": [
      "cannot convert float NaN to integer\n"
     ]
    },
    {
     "name": "stdout",
     "output_type": "stream",
     "text": [
      "\n",
      " 27.437312\n"
     ]
    }
   ],
   "source": [
    "import dask\n",
    "dask.config.set(scheduler='threads') \n",
    "\n",
    "tod = 'D:/sat_data/sev/out/'\n",
    "\n",
    "\n",
    "bbox = (-1600000, -2770000, 690000, -1040000)\n",
    "\n",
    "comp = 'natural_color_flames'\n",
    "comp = 'fire_radiative_power'\n",
    "\n",
    "ifiles_l15 = glob('D:/sat_data/sev/in/*.nat')\n",
    "ifiles_l15.sort()\n",
    "with dask.config.set({\"array.chunk-size\": \"32MiB\"}):\n",
    "    with Profiler() as prof, ResourceProfiler(dt=0.25) as rprof:\n",
    "        st = datetime.utcnow()\n",
    "        #if not os.path.isfile(outf):\n",
    "        if True:\n",
    "            scn = Scene(ifiles_l15, reader='seviri_l1b_native')\n",
    "            scn.load([comp], generate=False, upper_right_corner='NE')\n",
    "           # scn.load(['ir_38'], calibration='radiance')\n",
    "            #scn.load([comp], generate=False)\n",
    "            scn2 = scn\n",
    "            scn3 = scn2.resample(scn2.coarsest_area(), resampler='native')\n",
    "            #scn3.save_dataset(comp, base_dir=tod,  fill_value=0)\n",
    "            scn3.save_dataset(comp, base_dir=tod, enhance=False, dtype=np.float32, fill_value=0)\n",
    "\n",
    "        en = datetime.utcnow()\n",
    "        print('\\n', (en-st).total_seconds())\n",
    "    visualize([prof, rprof], show=False, save=True, filename=\"D:/sat_data/ahi_main/frp_new.html\")"
   ]
  },
  {
   "cell_type": "code",
   "execution_count": 6,
   "id": "d0132d22",
   "metadata": {},
   "outputs": [],
   "source": [
    "scn = Scene(ifiles_l15, reader='seviri_l1b_native')\n",
    "scn.load(['IR_039'], calibration='radiance', upper_right_corner='NE')\n",
    "scn.save_dataset('IR_039', base_dir=tod, enhance=False, dtype=np.float32, fill_value=0)"
   ]
  },
  {
   "cell_type": "code",
   "execution_count": null,
   "id": "b017860b",
   "metadata": {},
   "outputs": [],
   "source": []
  }
 ],
 "metadata": {
  "kernelspec": {
   "display_name": "Python 3 (ipykernel)",
   "language": "python",
   "name": "python3"
  },
  "language_info": {
   "codemirror_mode": {
    "name": "ipython",
    "version": 3
   },
   "file_extension": ".py",
   "mimetype": "text/x-python",
   "name": "python",
   "nbconvert_exporter": "python",
   "pygments_lexer": "ipython3",
   "version": "3.11.7"
  }
 },
 "nbformat": 4,
 "nbformat_minor": 5
}
