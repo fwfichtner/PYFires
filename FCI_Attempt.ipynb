{
 "cells": [
  {
   "cell_type": "code",
   "execution_count": 1,
   "id": "e18f5209",
   "metadata": {},
   "outputs": [],
   "source": [
    "%load_ext autoreload\n",
    "%autoreload 2\n",
    "\n",
    "from dask_image.ndfilters import median_filter, threshold_local, percentile_filter, uniform_filter, gaussian_filter, sobel\n",
    "from pyfires.PYF_WindowStats import get_mea_std_window, get_local_stats\n",
    "from dask_image.ndfilters import convolve, maximum_filter\n",
    "from satpy.modifiers.angles import _get_sun_angles\n",
    "from pyfires.PYF_Anisotropy import aniso_diff\n",
    "from scipy.ndimage import convolve as conv\n",
    "from cython.parallel import prange\n",
    "from tqdm import tqdm\n",
    "\n",
    "import dask\n",
    "dask.config.set(num_workers=8)\n",
    "\n",
    "import satpy\n",
    "satpy.config.set({'cache_dir': \"D:/sat_data/cache/\"})\n",
    "satpy.config.set({'cache_sensor_angles': True})\n",
    "satpy.config.set({'cache_lonlats': True})\n",
    "\n",
    "from datetime import datetime\n",
    "from satpy import Scene\n",
    "import dask.array as da\n",
    "from glob import glob\n",
    "from pyfires.PYF_detection import stage1_tests, run_basic_night_detection, run_dets\n",
    "\n",
    "from pyfires.PYF_detection import stage1_tests, run_basic_night_detection, _make_kern\n",
    "import pyfires.PYF_Consts as PYFc\n",
    "from pyfires.PYF_basic import *\n",
    "\n",
    "from pyspectral.rsr_reader import RelativeSpectralResponse\n",
    "import xarray as xr\n",
    "import numpy as np\n",
    "\n",
    "import warnings\n",
    "warnings.filterwarnings('ignore')\n",
    "\n",
    "from satpy import Scene\n",
    "from glob import glob\n",
    "import os\n",
    "\n",
    "from satpy.utils import debug_on\n",
    "#debug_on()"
   ]
  },
  {
   "cell_type": "code",
   "execution_count": null,
   "id": "72aa6c40",
   "metadata": {},
   "outputs": [],
   "source": []
  },
  {
   "cell_type": "code",
   "execution_count": 2,
   "id": "66b670d1",
   "metadata": {},
   "outputs": [
    {
     "name": "stderr",
     "output_type": "stream",
     "text": [
      "Don't know how to open the following files: {'D:/sat_data/fci/in\\\\W_XX-EUMETSAT-Darmstadt,IMG+SAT,MTI1+FCI-1C-RRAD-FDHSI-FD--CHK-TRAIL---NC4E_C_EUMT_20231120125403_IDPFI_OPE_20231120125007_20231120125924_N__C_0078_0041.nc'}\n"
     ]
    }
   ],
   "source": [
    "bdict = {'vi1_band': 'vis_06',\n",
    "         'vi2_band': 'nir_22',\n",
    "         'mir_band': 'ir_38',\n",
    "         'lwi_band': 'ir_105'}\n",
    "\n",
    "\n",
    "indir = 'D:/sat_data/fci/in/'\n",
    "tod = 'D:/sat_data/fci/out/'\n",
    "ifiles_l1 = glob(f'{indir}/*FDHSI*--NC4E_*.nc')\n",
    "scn = Scene(ifiles_l1, reader='fci_l1c_nc')\n",
    "scn.load(['true_color'])\n",
    "scn2 = scn.resample(scn.coarsest_area(), resampler='native')\n",
    "scn2.save_datasets(base_dir=tod)"
   ]
  },
  {
   "cell_type": "code",
   "execution_count": 3,
   "id": "aae4dbd0",
   "metadata": {},
   "outputs": [
    {
     "name": "stderr",
     "output_type": "stream",
     "text": [
      "Don't know how to open the following files: {'D:/sat_data/fci/in\\\\W_XX-EUMETSAT-Darmstadt,IMG+SAT,MTI1+FCI-1C-RRAD-FDHSI-FD--CHK-TRAIL---NC4E_C_EUMT_20231120125403_IDPFI_OPE_20231120125007_20231120125924_N__C_0078_0041.nc'}\n",
      "Don't know how to open the following files: {'D:/sat_data/fci/in\\\\W_XX-EUMETSAT-Darmstadt,IMG+SAT,MTI1+FCI-1C-RRAD-FDHSI-FD--CHK-TRAIL---NC4E_C_EUMT_20231120125403_IDPFI_OPE_20231120125007_20231120125924_N__C_0078_0041.nc'}\n"
     ]
    }
   ],
   "source": [
    "data_dict, scn, scn2, so, so2 = initial_load(ifiles_l1,  # List of files to load\n",
    "                                    'fci_l1c_nc',   # The reader to use, in this case the AHI HSD reader\n",
    "                                     bdict, do_load_lsm=False)       # The bands to load"
   ]
  },
  {
   "cell_type": "code",
   "execution_count": 4,
   "id": "bf536ea7",
   "metadata": {},
   "outputs": [],
   "source": [
    "data_dict['PFP'] = stage1_tests(data_dict['MIR__BT'],\n",
    "                                data_dict['BTD'],\n",
    "                                data_dict['VI1_DIFF'],\n",
    "                                data_dict['SZA'],\n",
    "                                data_dict['LSM'],\n",
    "                                ksizes=[5, 7, 9],\n",
    "                                do_lsm_mask=True)"
   ]
  },
  {
   "cell_type": "code",
   "execution_count": 7,
   "id": "f2caaa6d",
   "metadata": {},
   "outputs": [],
   "source": [
    "data_dict['VI1_DIFF_2'].data = da.where(np.isfinite(data_dict['VI1_DIFF_2']), data_dict['VI1_DIFF_2'], 0)\n",
    "vid = np.array(data_dict['VI1_DIFF_2']).astype(np.float32)"
   ]
  },
  {
   "cell_type": "code",
   "execution_count": 8,
   "id": "d86f3cbb",
   "metadata": {},
   "outputs": [],
   "source": [
    "res_n1_n = aniso_diff(vid,\n",
    "                niter=1,\n",
    "                kappa=1)\n",
    "res_n3_n = aniso_diff(vid,\n",
    "                niter=2,\n",
    "                kappa=1)\n",
    "res_n5_n = aniso_diff(vid,\n",
    "                niter=3,\n",
    "                kappa=1)\n",
    "\n",
    "main_n = np.dstack((vid, res_n1_n, res_n3_n, res_n5_n))"
   ]
  },
  {
   "cell_type": "code",
   "execution_count": 9,
   "id": "1bca24bd",
   "metadata": {},
   "outputs": [],
   "source": [
    "wrap_get_aniso_diffs = dask.delayed(get_aniso_diffs)\n",
    "main_n2 = wrap_get_aniso_diffs(data_dict['VI1_DIFF_2'], [1, 2, 3])"
   ]
  },
  {
   "cell_type": "code",
   "execution_count": 10,
   "id": "f5aafcab",
   "metadata": {},
   "outputs": [],
   "source": [
    "main_std = np.nanstd(main_n, axis=2)"
   ]
  },
  {
   "cell_type": "code",
   "execution_count": 11,
   "id": "d99b9165",
   "metadata": {},
   "outputs": [],
   "source": [
    "out = (main_std > 0.01).astype(np.uint8)\n",
    "out = out * (vid > -0.15)"
   ]
  },
  {
   "cell_type": "code",
   "execution_count": 12,
   "id": "a1692fb4",
   "metadata": {},
   "outputs": [],
   "source": [
    "out2 = out * data_dict['PFP']\n",
    "#save_output(scn, out2, f'out3', tod, 'B07' )"
   ]
  },
  {
   "cell_type": "code",
   "execution_count": 17,
   "id": "dea61157",
   "metadata": {},
   "outputs": [],
   "source": [
    "dets_arr = (out2 > 0).astype(np.uint8)\n",
    "dets_arr[:,:] = 1\n",
    "wrap_get_mean_std = dask.delayed(get_mea_std_window)\n",
    "outa = wrap_get_mean_std(data_dict['PFP'].data,\n",
    "                         data_dict['VI1_RAD'].data.astype(np.float32),  # VIS chan\n",
    "                         data_dict['mi_ndfi'].data.astype(np.float32),  # NDFI\n",
    "                         data_dict['LW1__BT'].data.astype(np.float32),  # LW Brightness Temperature\n",
    "                         data_dict['BTD'].data.astype(np.float32),  # MIR-LW BTD\n",
    "                         data_dict['MIR__BT'].data.astype(np.float32),  # MIR BT\n",
    "                         data_dict['VI1_DIFF'].data.astype(np.float32),  # MIR-LWIR-VIS radiance diff\n",
    "                         data_dict['LSM'].data,  # The land-sea mask\n",
    "                         data_dict['LATS'].data.astype(np.float32),  # The pixel longitudes\n",
    "                         255,  # The value denoting land in the LSM. If 255, ignore mask\n",
    "                         25)"
   ]
  },
  {
   "cell_type": "code",
   "execution_count": 18,
   "id": "63365df4",
   "metadata": {},
   "outputs": [
    {
     "name": "stdout",
     "output_type": "stream",
     "text": [
      "161.123898\n"
     ]
    }
   ],
   "source": [
    "sdt = datetime.utcnow()\n",
    "outan = outa.compute()\n",
    "edt = datetime.utcnow()\n",
    "print((edt - sdt).total_seconds())"
   ]
  },
  {
   "cell_type": "code",
   "execution_count": 19,
   "id": "efb7a37b",
   "metadata": {},
   "outputs": [],
   "source": [
    "perc_good = outan[0, :, :]\n",
    "n_winpix = outan[1, :, :]\n",
    "n_cloudpix = outan[2, :, :]\n",
    "n_waterpix = outan[3, :, :]\n",
    "mean_lw = outan[4, :, :]\n",
    "std_lw = outan[5, :, :]\n",
    "mean_nd = outan[6, :, :]\n",
    "std_nd = outan[7, :, :]\n",
    "mean_vi = outan[8, :, :]\n",
    "std_vi = outan[9, :, :]\n",
    "mean_btd = outan[10, :, :]\n",
    "std_btd = outan[11, :, :]\n",
    "mean_mir = outan[12, :, :]\n",
    "std_mir = outan[13, :, :]\n",
    "mean_vid = outan[14, :, :]\n",
    "std_vid = outan[15, :, :]"
   ]
  },
  {
   "cell_type": "code",
   "execution_count": 20,
   "id": "9557cec9",
   "metadata": {},
   "outputs": [],
   "source": [
    "#save_output(scn, perc_good, f'perc_good', tod, 'B07' )\n",
    "#save_output(scn, n_winpix, f'n_winpix', tod, 'B07' )\n",
    "#save_output(scn, n_cloudpix, f'n_cloudpix', tod, 'B07' )\n",
    "#save_output(scn, n_waterpix, f'n_waterpix', tod, 'B07' )\n",
    "#save_output(scn, mean_lw, f'mean_lw', tod, 'B07' )\n",
    "#save_output(scn, std_lw, f'std_lw', tod, 'B07' )\n",
    "#save_output(scn, mean_nd, f'mean_nd', tod, 'B07' )\n",
    "#save_output(scn, std_nd, f'std_nd', tod, 'B07' )\n",
    "#save_output(scn, mean_vi, f'mean_vi', tod, 'B07' )\n",
    "#save_output(scn, std_vi, f'std_vi', tod, 'B07' )\n",
    "#save_output(scn, mean_btd, f'mean_btd', tod, 'B07' )\n",
    "#save_output(scn, std_btd, f'std_btd', tod, 'B07' )\n",
    "#save_output(scn, mean_mir, f'mean_mir', tod, 'B07' )\n",
    "#save_output(scn, std_mir, f'std_mir', tod, 'B07' )\n",
    "#save_output(scn, mean_vid, f'mean_vid', tod, 'B07' )\n",
    "#save_output(scn, std_vid, f'std_vid', tod, 'B07' )"
   ]
  },
  {
   "cell_type": "code",
   "execution_count": 21,
   "id": "388570d6",
   "metadata": {},
   "outputs": [],
   "source": [
    "#save_output(scn, data_dict['VI1_DIFF'], f'VI1_DIFF', tod, 'B07' )\n",
    "#save_output(scn, data_dict['MIR__BT'], f'MIR__BT', tod, 'B07' )\n",
    "#save_output(scn, data_dict['LW1__BT'], f'LW1__BT', tod, 'B07' )\n",
    "#save_output(scn, data_dict['mi_ndfi'], f'mi_ndfi', tod, 'B07' )\n",
    "#save_output(scn, data_dict['BTD'], f'BTD', tod, 'B07' )\n",
    "#save_output(scn, data_dict['VI1_RAD'], f'VI1_RAD', tod, 'B07' )"
   ]
  },
  {
   "cell_type": "code",
   "execution_count": 22,
   "id": "06bac69c",
   "metadata": {},
   "outputs": [],
   "source": [
    "vi1_diff_stdm = (data_dict['VI1_DIFF'] - mean_vid) / std_vid\n",
    "mir_bt_stdm = (data_dict['MIR__BT'] - mean_mir) / std_mir\n",
    "lw1_bt_stdm = (data_dict['LW1__BT'] - mean_lw) / std_lw\n",
    "mi_ndfi_stdm = (data_dict['mi_ndfi'] - mean_nd) / std_nd\n",
    "btd_stdm = (data_dict['BTD'] - mean_btd) / std_btd\n",
    "vi1_rad_stdm = (data_dict['VI1_RAD'] - mean_vi) / std_vi"
   ]
  },
  {
   "cell_type": "code",
   "execution_count": 23,
   "id": "296d3c8f",
   "metadata": {},
   "outputs": [],
   "source": [
    "out3 = out2 * (vi1_diff_stdm > vi1_rad_stdm * 1.5)\n",
    "#save_output(scn, out3, f'out4', tod, 'B07' )"
   ]
  },
  {
   "cell_type": "code",
   "execution_count": 24,
   "id": "d76f2707",
   "metadata": {},
   "outputs": [],
   "source": [
    "out4 = out3 * (mir_bt_stdm > 1.5)\n",
    "#save_output(scn, out4, f'out5', tod, 'B07' )"
   ]
  },
  {
   "cell_type": "code",
   "execution_count": 25,
   "id": "556f4668",
   "metadata": {},
   "outputs": [],
   "source": [
    "vid2 = xr.where(mean_vid > 0, mean_vid, 0)\n",
    "vi1_diff_std2m = (data_dict['VI1_DIFF'] - vid2) / std_vid\n",
    "#save_output(scn, vi1_diff_std2m, f'VI1_DIFF_STD2', tod, 'B07' )"
   ]
  },
  {
   "cell_type": "code",
   "execution_count": 26,
   "id": "1535df1b",
   "metadata": {},
   "outputs": [],
   "source": [
    "kern = np.ones((3,3))\n",
    "fir_d_sum = conv(out4, kern)\n",
    "local_max = maximum_filter(data_dict['VI1_DIFF'].data, (3,3))\n",
    "out5 = (fir_d_sum == 1) * (data_dict['VI1_DIFF'] == local_max)\n",
    "main_out = out4 * (fir_d_sum > 1) + out5 * out4"
   ]
  },
  {
   "cell_type": "code",
   "execution_count": 27,
   "id": "e824406b",
   "metadata": {},
   "outputs": [],
   "source": [
    "main_out = out4 * (fir_d_sum > 1) + out5 * out4\n",
    "#save_output(scn, main_out, f'out6', tod, 'B07' )"
   ]
  },
  {
   "cell_type": "code",
   "execution_count": 28,
   "id": "4deb0994",
   "metadata": {},
   "outputs": [],
   "source": [
    "main_out = main_out * xr.where(data_dict['MIR__BT'] > mean_mir + 2 * std_mir, main_out, 0)\n",
    "#save_output(scn, main_out, f'out7', tod, 'B07' )\n",
    "\n",
    "main_out = main_out * xr.where(data_dict['BTD'] > mean_btd + 2.5, main_out, 0)\n",
    "#save_output(scn, main_out, f'out8', tod, 'B07' )\n",
    "\n",
    "main_out = main_out * xr.where(data_dict['BTD'] > mean_btd + 2 * std_btd, main_out, 0)\n",
    "#save_output(scn, main_out, f'out9', tod, 'B07' )"
   ]
  },
  {
   "cell_type": "code",
   "execution_count": 29,
   "id": "0a8af9d0",
   "metadata": {},
   "outputs": [],
   "source": [
    "fir_d_sum = conv(main_out, kern)\n",
    "local_max = maximum_filter(data_dict['MIR__BT'].data, (3,3))\n",
    "tmp_out = (fir_d_sum == 1) * (data_dict['MIR__BT'] == local_max)\n",
    "main_out = main_out * (fir_d_sum > 1) + main_out * tmp_out\n",
    "#print(np.sum(main_out.data.compute()))\n",
    "#save_output(scn, main_out, f'out10', tod, 'B07' )"
   ]
  },
  {
   "cell_type": "code",
   "execution_count": 30,
   "id": "a8d94a82",
   "metadata": {},
   "outputs": [],
   "source": [
    "kern = np.array([[-5, -4, -3, -2, -1, 0, 1, 2, 3, 4, 5],\n",
    "                 [-5, -4, -3, -2, -1, 0, 1, 2, 3, 4, 5],\n",
    "                 [-5, -4, -3, -2, -1, 0, 1, 2, 3, 4, 5],\n",
    "                 [-5, -4, -3, -2, -1, 0, 1, 2, 3, 4, 5],\n",
    "                 [-5, -4, -3, -2, -1, 0, 1, 2, 3, 4, 5],\n",
    "                 [-5, -4, -3, -2, -1, 0, 1, 2, 3, 4, 5],\n",
    "                 [-5, -4, -3, -2, -1, 0, 1, 2, 3, 4, 5],\n",
    "                 [-5, -4, -3, -2, -1, 0, 1, 2, 3, 4, 5],\n",
    "                 [-5, -4, -3, -2, -1, 0, 1, 2, 3, 4, 5],\n",
    "                 [-5, -4, -3, -2, -1, 0, 1, 2, 3, 4, 5],\n",
    "                 [-5, -4, -3, -2, -1, 0, 1, 2, 3, 4, 5]]) / 5\n",
    "\n",
    "resx = np.abs(convolve(data_dict['MIR__BT'].data, kern))\n",
    "\n",
    "kern = kern.T\n",
    "\n",
    "resy = np.abs(convolve(data_dict['MIR__BT'].data, kern))\n",
    "\n",
    "res = np.sqrt(resx*resx + resy*resy)\n",
    "\n",
    "main_out = main_out * (res < 500)"
   ]
  },
  {
   "cell_type": "code",
   "execution_count": 31,
   "id": "5e7ab00c",
   "metadata": {},
   "outputs": [],
   "source": [
    "#save_output(scn, resx, f'grad_x', tod, 'B07' )\n",
    "#save_output(scn, resy, f'grad_y', tod, 'B07' )\n",
    "#save_output(scn, res, f'grad_res', tod, 'B07' )"
   ]
  },
  {
   "cell_type": "code",
   "execution_count": 32,
   "id": "df933a42",
   "metadata": {},
   "outputs": [],
   "source": [
    "#save_output(scn, main_out, f'out11', tod, 'B07' )"
   ]
  },
  {
   "cell_type": "code",
   "execution_count": 33,
   "id": "d3157c1d",
   "metadata": {},
   "outputs": [],
   "source": [
    "mainer = np.array(main_out)\n",
    "mirbt = np.array(data_dict['MIR__BT'])\n",
    "viddr = np.array(data_dict['VI1_DIFF'])\n",
    "btddr = np.array(data_dict['BTD'])"
   ]
  },
  {
   "cell_type": "code",
   "execution_count": 34,
   "id": "4052d9f6",
   "metadata": {},
   "outputs": [
    {
     "name": "stderr",
     "output_type": "stream",
     "text": [
      "100%|███████████████████████████████████████████████████████████████████████████████████████████████████████████████████████████████████████████████████████████████████████| 5566/5566 [00:28<00:00, 197.30it/s]\n"
     ]
    }
   ],
   "source": [
    "mirdif = np.zeros_like(mirbt)\n",
    "viddif = np.zeros_like(viddr)\n",
    "btddif = np.zeros_like(btddr)\n",
    "\n",
    "for x in tqdm(range(1, viddr.shape[0]-1)):\n",
    "    for y in range(1, viddr.shape[1]-1):\n",
    "        \n",
    "        if mainer[x, y] == 0: continue\n",
    "            \n",
    "        n_good = 0\n",
    "            \n",
    "        if mainer[x-1, y+1] == 0: \n",
    "            mirdif[x, y] = mirdif[x, y] + (mirbt[x, y] - mirbt[x-1, y+1])\n",
    "            viddif[x, y] = viddif[x, y] + (viddr[x, y] - viddr[x-1, y+1])\n",
    "            btddif[x, y] = btddif[x, y] + (btddr[x, y] - btddr[x-1, y+1])\n",
    "            n_good += 1\n",
    "        if mainer[x, y+1] == 0: \n",
    "            mirdif[x, y] = mirdif[x, y] + (mirbt[x, y] - mirbt[x, y+1])\n",
    "            viddif[x, y] = viddif[x, y] + (viddr[x, y] - viddr[x, y+1])\n",
    "            btddif[x, y] = btddif[x, y] + (btddr[x, y] - btddr[x, y+1])\n",
    "            n_good += 1\n",
    "        if mainer[x+1, y+1] == 0: \n",
    "            mirdif[x, y] = mirdif[x, y] + (mirbt[x, y] - mirbt[x+1, y+1])\n",
    "            viddif[x, y] = viddif[x, y] + (viddr[x, y] - viddr[x+1, y+1])\n",
    "            btddif[x, y] = btddif[x, y] + (btddr[x, y] - btddr[x+1, y+1])\n",
    "            n_good += 1\n",
    "            \n",
    "        if mainer[x-1, y] == 0: \n",
    "            mirdif[x, y] = mirdif[x, y] + (mirbt[x, y] - mirbt[x-1, y])\n",
    "            viddif[x, y] = viddif[x, y] + (viddr[x, y] - viddr[x-1, y])\n",
    "            btddif[x, y] = btddif[x, y] + (btddr[x, y] - btddr[x-1, y])\n",
    "        if mainer[x+1, y] == 0: \n",
    "            mirdif[x, y] = mirdif[x, y] + (mirbt[x, y] - mirbt[x+1, y])\n",
    "            viddif[x, y] = viddif[x, y] + (viddr[x, y] - viddr[x+1, y])\n",
    "            btddif[x, y] = btddif[x, y] + (btddr[x, y] - btddr[x+1, y])\n",
    "            n_good += 1\n",
    "            \n",
    "        if mainer[x-1, y-1] == 0: \n",
    "            mirdif[x, y] = mirdif[x, y] + (mirbt[x, y] - mirbt[x-1, y-1])\n",
    "            viddif[x, y] = viddif[x, y] + (viddr[x, y] - viddr[x-1, y-1])\n",
    "            btddif[x, y] = btddif[x, y] + (btddr[x, y] - btddr[x-1, y-1])\n",
    "            n_good += 1\n",
    "        if mainer[x, y-1] == 0: \n",
    "            mirdif[x, y] = mirdif[x, y] + (mirbt[x, y] - mirbt[x, y-1])\n",
    "            viddif[x, y] = viddif[x, y] + (viddr[x, y] - viddr[x, y-1])\n",
    "            btddif[x, y] = btddif[x, y] + (btddr[x, y] - btddr[x, y-1])\n",
    "            n_good += 1\n",
    "        if mainer[x+1, y-1] == 0: \n",
    "            mirdif[x, y] = mirdif[x, y] + (mirbt[x, y] - mirbt[x+1, y-1])\n",
    "            viddif[x, y] = viddif[x, y] + (viddr[x, y] - viddr[x+1, y-1])\n",
    "            btddif[x, y] = btddif[x, y] + (btddr[x, y] - btddr[x+1, y-1])\n",
    "            n_good += 1\n",
    "            \n",
    "        # Account for pixels that may be in the centre of a group of PFPs and hence have no valid neighbours\n",
    "        if n_good < 1:\n",
    "            mirdif[x, y] = 1\n",
    "            viddif[x, y] = 1\n",
    "            btddif[x, y] = 1\n",
    "        else:\n",
    "            mirdif[x, y] = mirdif[x, y] / n_good\n",
    "            viddif[x, y] = viddif[x, y] / n_good\n",
    "            btddif[x, y] = btddif[x, y] / n_good\n",
    "            "
   ]
  },
  {
   "cell_type": "code",
   "execution_count": 39,
   "id": "1d4f1c02",
   "metadata": {},
   "outputs": [],
   "source": [
    "locarr = get_local_stats(mainer, mirbt.astype(np.float32), btddr.astype(np.float32), viddr.astype(np.float32))\n",
    "mirdif2 = locarr[:, :, 0]\n",
    "btddif2 = locarr[:, :, 1]\n",
    "viddif2 = locarr[:, :, 2]"
   ]
  },
  {
   "cell_type": "code",
   "execution_count": 40,
   "id": "85d89608",
   "metadata": {},
   "outputs": [],
   "source": [
    "main_out = main_out * (btddif > 1) * (viddif > 0.04)\n",
    "main_out = main_out * (data_dict['BTD'] > mean_btd + std_mir + std_btd)\n",
    "#save_output(scn, main_out, f'out14', tod, 'B07' )"
   ]
  },
  {
   "cell_type": "code",
   "execution_count": 41,
   "id": "cc42ed2e",
   "metadata": {},
   "outputs": [],
   "source": [
    "kern = np.ones((3,3))\n",
    "fir_d_sum = conv(main_out, kern)\n",
    "local_max = maximum_filter(data_dict['VI1_DIFF'].data, (3,3))\n",
    "out5 = (fir_d_sum == 1) * (data_dict['VI1_DIFF'] == local_max)\n",
    "main_out2 = main_out * (fir_d_sum > 1) + out5 * main_out\n",
    "#save_output(scn, main_out2, f'main_out2', tod, 'B07' )"
   ]
  },
  {
   "cell_type": "code",
   "execution_count": 42,
   "id": "a0990412",
   "metadata": {},
   "outputs": [],
   "source": [
    "kern_ones = np.ones((3,3))\n",
    "fir_d_sum = conv(main_out2, kern_ones)\n",
    "local_max = maximum_filter(data_dict['MIR__BT'].data, (3,3))\n",
    "out5 = (fir_d_sum == 1) * (data_dict['MIR__BT'] == local_max)\n",
    "main_out3 = main_out2 * (fir_d_sum > 1) + out5 * main_out2\n",
    "#save_output(scn, main_out3, f'main_out3', tod, 'B07' )"
   ]
  },
  {
   "cell_type": "code",
   "execution_count": 43,
   "id": "637e29e8",
   "metadata": {},
   "outputs": [],
   "source": [
    "#############\n",
    "#TODOTODOTODO\n",
    "# NEED TO ADD CODE TO RE-ADD MISSING \n",
    "# FIRE PIXELS IF THEY ARE BRIGHT ENOUGH \n",
    "# AND ARE NEXT TO EXISTING FIRE PIXELS\n",
    "#TODOTODOTODO\n",
    "#############\n",
    "\n",
    "# Absolute MIR BT threshold before a pixel is declared 'fire'\n",
    "mir_abs_thresh = 350\n",
    "# BTD thresh for adding back missing pixels\n",
    "min_btd_addback = 2\n",
    "max_btd_addback = 15\n",
    "\n",
    "main_out4 = main_out3 + xr.where(data_dict['MIR__BT'] > mir_abs_thresh, 1, 0).astype(np.uint8)\n",
    "main_out4 = xr.where(main_out4 > 0, 1, 0).astype(np.uint8)\n",
    "\n",
    "fir_d_sum = conv(main_out4, kern_ones)\n",
    "\n",
    "# Threshold for adding missing fire pixels, as the algorithm removes some pixels adjacent to existing detections\n",
    "# We add back using the BTD weighted by the number of fire pixels adjacent to the candidate.\n",
    "btd_addback_thresh = (9 - fir_d_sum) * (8 / (max_btd_addback - min_btd_addback)) + min_btd_addback + mean_btd + std_btd\n",
    "btd_addback_thresh = btd_addback_thresh * data_dict['PFP']\n",
    " \n",
    "main_out5 = main_out4 + xr.where(data_dict['BTD'] > btd_addback_thresh, 1, 0).astype(np.uint8)\n",
    "main_out5 = xr.where(main_out5 > 0, 1, 0).astype(np.uint8) * \\\n",
    "            xr.where(data_dict['PFP'] > 0, 1, 0).astype(np.uint8) * \\\n",
    "            xr.where(fir_d_sum > 0, 1, 0).astype(np.uint8)\n",
    "#save_output(scn, main_out5, f'main_out5', tod, 'B07' )"
   ]
  },
  {
   "cell_type": "code",
   "execution_count": 44,
   "id": "9d2401e5",
   "metadata": {},
   "outputs": [],
   "source": [
    "data_dict['fire_dets'] = main_out3\n",
    "data_dict['mean_mir'] = mean_mir\n",
    "data_dict['mean_btd'] = mean_btd\n",
    "data_dict['std_btd'] = std_btd"
   ]
  },
  {
   "cell_type": "code",
   "execution_count": 45,
   "id": "20cf3c0a",
   "metadata": {},
   "outputs": [],
   "source": [
    "data_dict = calc_frp(data_dict)"
   ]
  },
  {
   "cell_type": "code",
   "execution_count": 46,
   "id": "50fdce82",
   "metadata": {},
   "outputs": [],
   "source": [
    "save_output(scn, data_dict['frp_est'], f'frp_est', tod, 'ir_38' )"
   ]
  },
  {
   "cell_type": "code",
   "execution_count": 47,
   "id": "38e0bd05",
   "metadata": {},
   "outputs": [],
   "source": [
    "save_output(scn, data_dict['BTD'], f'BTD', tod, 'ir_38' )"
   ]
  },
  {
   "cell_type": "code",
   "execution_count": 37,
   "id": "953f8a2f",
   "metadata": {},
   "outputs": [],
   "source": [
    "save_output(scn, data_dict['VI1_DIFF'], f'VI1_DIFF', tod, 'ir_38' )"
   ]
  },
  {
   "cell_type": "code",
   "execution_count": null,
   "id": "e03f715a",
   "metadata": {},
   "outputs": [],
   "source": []
  },
  {
   "cell_type": "code",
   "execution_count": null,
   "id": "6e5d1402",
   "metadata": {},
   "outputs": [],
   "source": [
    "scn = Scene(ifiles_l15, reader='ahi_hsd')\n",
    "scn2 = Scene(ifiles_l15, reader='ahi_hsd')\n",
    "\n",
    "scn.load(['B03', 'B07', 'B13'], calibration='radiance')\n",
    "scn2.load(['B07', 'B13'])\n",
    "\n",
    "scn = scn.resample(scn.coarsest_area(), resampler='native')\n",
    "scn2 = scn2.resample(scn.coarsest_area(), resampler='native')\n",
    "dd = sort_l1(scn['B03'],\n",
    "             scn['B07'],\n",
    "             scn['B13'],\n",
    "             scn2['B07'],\n",
    "             scn2['B13'],\n",
    "             bdict\n",
    "            )"
   ]
  },
  {
   "cell_type": "code",
   "execution_count": null,
   "id": "349b9247",
   "metadata": {},
   "outputs": [],
   "source": [
    "bob, bob2 = run_dets(dd)"
   ]
  },
  {
   "cell_type": "code",
   "execution_count": null,
   "id": "1106248b",
   "metadata": {},
   "outputs": [],
   "source": [
    "save_output(scn, bob, f'dets', tod, 'B07' )\n",
    "save_output(scn, bob2, f'frp', tod, 'B07' )"
   ]
  },
  {
   "cell_type": "code",
   "execution_count": 36,
   "id": "f2b2c9f1",
   "metadata": {},
   "outputs": [
    {
     "ename": "KeyError",
     "evalue": "\"No dataset matching 'DataQuery(name='B07')' found\"",
     "output_type": "error",
     "traceback": [
      "\u001b[1;31m---------------------------------------------------------------------------\u001b[0m",
      "\u001b[1;31mKeyError\u001b[0m                                  Traceback (most recent call last)",
      "File \u001b[1;32m~\\PycharmProjects\\satpy\\satpy\\dataset\\data_dict.py:169\u001b[0m, in \u001b[0;36mDatasetDict.__getitem__\u001b[1;34m(self, item)\u001b[0m\n\u001b[0;32m    167\u001b[0m \u001b[38;5;28;01mtry\u001b[39;00m:\n\u001b[0;32m    168\u001b[0m     \u001b[38;5;66;03m# short circuit - try to get the object without more work\u001b[39;00m\n\u001b[1;32m--> 169\u001b[0m     \u001b[38;5;28;01mreturn\u001b[39;00m \u001b[38;5;28;43msuper\u001b[39;49m\u001b[43m(\u001b[49m\u001b[43mDatasetDict\u001b[49m\u001b[43m,\u001b[49m\u001b[43m \u001b[49m\u001b[38;5;28;43mself\u001b[39;49m\u001b[43m)\u001b[49m\u001b[38;5;241;43m.\u001b[39;49m\u001b[38;5;21;43m__getitem__\u001b[39;49m\u001b[43m(\u001b[49m\u001b[43mitem\u001b[49m\u001b[43m)\u001b[49m\n\u001b[0;32m    170\u001b[0m \u001b[38;5;28;01mexcept\u001b[39;00m \u001b[38;5;167;01mKeyError\u001b[39;00m:\n",
      "\u001b[1;31mKeyError\u001b[0m: 'B07'",
      "\nDuring handling of the above exception, another exception occurred:\n",
      "\u001b[1;31mKeyError\u001b[0m                                  Traceback (most recent call last)",
      "Cell \u001b[1;32mIn[36], line 1\u001b[0m\n\u001b[1;32m----> 1\u001b[0m \u001b[43msave_output\u001b[49m\u001b[43m(\u001b[49m\u001b[43mscn\u001b[49m\u001b[43m,\u001b[49m\u001b[43m \u001b[49m\u001b[43mdata_dict\u001b[49m\u001b[43m[\u001b[49m\u001b[38;5;124;43m'\u001b[39;49m\u001b[38;5;124;43mBTD\u001b[39;49m\u001b[38;5;124;43m'\u001b[39;49m\u001b[43m]\u001b[49m\u001b[43m,\u001b[49m\u001b[43m \u001b[49m\u001b[38;5;124;43mf\u001b[39;49m\u001b[38;5;124;43m'\u001b[39;49m\u001b[38;5;124;43mBTD\u001b[39;49m\u001b[38;5;124;43m'\u001b[39;49m\u001b[43m,\u001b[49m\u001b[43m \u001b[49m\u001b[43mtod\u001b[49m\u001b[43m,\u001b[49m\u001b[43m \u001b[49m\u001b[38;5;124;43m'\u001b[39;49m\u001b[38;5;124;43mB07\u001b[39;49m\u001b[38;5;124;43m'\u001b[39;49m\u001b[43m \u001b[49m\u001b[43m)\u001b[49m\n",
      "File \u001b[1;32m~\\PycharmProjects\\PYFires\\pyfires\\PYF_basic.py:93\u001b[0m, in \u001b[0;36msave_output\u001b[1;34m(inscn, indata, name, odir, ref)\u001b[0m\n\u001b[0;32m     92\u001b[0m \u001b[38;5;28;01mdef\u001b[39;00m \u001b[38;5;21msave_output\u001b[39m(inscn, indata, name, odir, ref\u001b[38;5;241m=\u001b[39m\u001b[38;5;124m'\u001b[39m\u001b[38;5;124mB07\u001b[39m\u001b[38;5;124m'\u001b[39m):\n\u001b[1;32m---> 93\u001b[0m     inscn[name] \u001b[38;5;241m=\u001b[39m \u001b[43minscn\u001b[49m\u001b[43m[\u001b[49m\u001b[43mref\u001b[49m\u001b[43m]\u001b[49m\u001b[38;5;241m.\u001b[39mcopy()\n\u001b[0;32m     94\u001b[0m     inscn[name]\u001b[38;5;241m.\u001b[39mattrs[\u001b[38;5;124m'\u001b[39m\u001b[38;5;124mname\u001b[39m\u001b[38;5;124m'\u001b[39m] \u001b[38;5;241m=\u001b[39m name\n\u001b[0;32m     95\u001b[0m     inscn[name]\u001b[38;5;241m.\u001b[39mdata \u001b[38;5;241m=\u001b[39m indata\n",
      "File \u001b[1;32m~\\PycharmProjects\\satpy\\satpy\\scene.py:825\u001b[0m, in \u001b[0;36mScene.__getitem__\u001b[1;34m(self, key)\u001b[0m\n\u001b[0;32m    823\u001b[0m \u001b[38;5;28;01mif\u001b[39;00m \u001b[38;5;28misinstance\u001b[39m(key, \u001b[38;5;28mtuple\u001b[39m):\n\u001b[0;32m    824\u001b[0m     \u001b[38;5;28;01mreturn\u001b[39;00m \u001b[38;5;28mself\u001b[39m\u001b[38;5;241m.\u001b[39mslice(key)\n\u001b[1;32m--> 825\u001b[0m \u001b[38;5;28;01mreturn\u001b[39;00m \u001b[38;5;28;43mself\u001b[39;49m\u001b[38;5;241;43m.\u001b[39;49m\u001b[43m_datasets\u001b[49m\u001b[43m[\u001b[49m\u001b[43mkey\u001b[49m\u001b[43m]\u001b[49m\n",
      "File \u001b[1;32m~\\PycharmProjects\\satpy\\satpy\\dataset\\data_dict.py:171\u001b[0m, in \u001b[0;36mDatasetDict.__getitem__\u001b[1;34m(self, item)\u001b[0m\n\u001b[0;32m    169\u001b[0m     \u001b[38;5;28;01mreturn\u001b[39;00m \u001b[38;5;28msuper\u001b[39m(DatasetDict, \u001b[38;5;28mself\u001b[39m)\u001b[38;5;241m.\u001b[39m\u001b[38;5;21m__getitem__\u001b[39m(item)\n\u001b[0;32m    170\u001b[0m \u001b[38;5;28;01mexcept\u001b[39;00m \u001b[38;5;167;01mKeyError\u001b[39;00m:\n\u001b[1;32m--> 171\u001b[0m     key \u001b[38;5;241m=\u001b[39m \u001b[38;5;28;43mself\u001b[39;49m\u001b[38;5;241;43m.\u001b[39;49m\u001b[43mget_key\u001b[49m\u001b[43m(\u001b[49m\u001b[43mitem\u001b[49m\u001b[43m)\u001b[49m\n\u001b[0;32m    172\u001b[0m     \u001b[38;5;28;01mreturn\u001b[39;00m \u001b[38;5;28msuper\u001b[39m(DatasetDict, \u001b[38;5;28mself\u001b[39m)\u001b[38;5;241m.\u001b[39m\u001b[38;5;21m__getitem__\u001b[39m(key)\n",
      "File \u001b[1;32m~\\PycharmProjects\\satpy\\satpy\\dataset\\data_dict.py:158\u001b[0m, in \u001b[0;36mDatasetDict.get_key\u001b[1;34m(self, match_key, num_results, best, **dfilter)\u001b[0m\n\u001b[0;32m    142\u001b[0m \u001b[38;5;28;01mdef\u001b[39;00m \u001b[38;5;21mget_key\u001b[39m(\u001b[38;5;28mself\u001b[39m, match_key, num_results\u001b[38;5;241m=\u001b[39m\u001b[38;5;241m1\u001b[39m, best\u001b[38;5;241m=\u001b[39m\u001b[38;5;28;01mTrue\u001b[39;00m, \u001b[38;5;241m*\u001b[39m\u001b[38;5;241m*\u001b[39mdfilter):\n\u001b[0;32m    143\u001b[0m \u001b[38;5;250m    \u001b[39m\u001b[38;5;124;03m\"\"\"Get multiple fully-specified keys that match the provided query.\u001b[39;00m\n\u001b[0;32m    144\u001b[0m \n\u001b[0;32m    145\u001b[0m \u001b[38;5;124;03m    Args:\u001b[39;00m\n\u001b[1;32m   (...)\u001b[0m\n\u001b[0;32m    156\u001b[0m \n\u001b[0;32m    157\u001b[0m \u001b[38;5;124;03m    \"\"\"\u001b[39;00m\n\u001b[1;32m--> 158\u001b[0m     \u001b[38;5;28;01mreturn\u001b[39;00m \u001b[43mget_key\u001b[49m\u001b[43m(\u001b[49m\u001b[43mmatch_key\u001b[49m\u001b[43m,\u001b[49m\u001b[43m \u001b[49m\u001b[38;5;28;43mself\u001b[39;49m\u001b[38;5;241;43m.\u001b[39;49m\u001b[43mkeys\u001b[49m\u001b[43m(\u001b[49m\u001b[43m)\u001b[49m\u001b[43m,\u001b[49m\u001b[43m \u001b[49m\u001b[43mnum_results\u001b[49m\u001b[38;5;241;43m=\u001b[39;49m\u001b[43mnum_results\u001b[49m\u001b[43m,\u001b[49m\n\u001b[0;32m    159\u001b[0m \u001b[43m                   \u001b[49m\u001b[43mbest\u001b[49m\u001b[38;5;241;43m=\u001b[39;49m\u001b[43mbest\u001b[49m\u001b[43m,\u001b[49m\u001b[43m \u001b[49m\u001b[38;5;241;43m*\u001b[39;49m\u001b[38;5;241;43m*\u001b[39;49m\u001b[43mdfilter\u001b[49m\u001b[43m)\u001b[49m\n",
      "File \u001b[1;32m~\\PycharmProjects\\satpy\\satpy\\dataset\\data_dict.py:107\u001b[0m, in \u001b[0;36mget_key\u001b[1;34m(key, key_container, num_results, best, query, **kwargs)\u001b[0m\n\u001b[0;32m    105\u001b[0m res \u001b[38;5;241m=\u001b[39m key\u001b[38;5;241m.\u001b[39mfilter_dataids(key_container)\n\u001b[0;32m    106\u001b[0m \u001b[38;5;28;01mif\u001b[39;00m \u001b[38;5;129;01mnot\u001b[39;00m res:\n\u001b[1;32m--> 107\u001b[0m     \u001b[38;5;28;01mraise\u001b[39;00m \u001b[38;5;167;01mKeyError\u001b[39;00m(\u001b[38;5;124m\"\u001b[39m\u001b[38;5;124mNo dataset matching \u001b[39m\u001b[38;5;124m'\u001b[39m\u001b[38;5;132;01m{}\u001b[39;00m\u001b[38;5;124m'\u001b[39m\u001b[38;5;124m found\u001b[39m\u001b[38;5;124m\"\u001b[39m\u001b[38;5;241m.\u001b[39mformat(\u001b[38;5;28mstr\u001b[39m(key)))\n\u001b[0;32m    109\u001b[0m \u001b[38;5;28;01mif\u001b[39;00m best:\n\u001b[0;32m    110\u001b[0m     res \u001b[38;5;241m=\u001b[39m get_best_dataset_key(key, res)\n",
      "\u001b[1;31mKeyError\u001b[0m: \"No dataset matching 'DataQuery(name='B07')' found\""
     ]
    }
   ],
   "source": [
    "\n",
    "save_output(scn, data_dict['BTD'], f'BTD', tod, 'B07' )"
   ]
  },
  {
   "cell_type": "code",
   "execution_count": null,
   "id": "797e2471",
   "metadata": {},
   "outputs": [],
   "source": []
  },
  {
   "cell_type": "code",
   "execution_count": null,
   "id": "20a182e0",
   "metadata": {},
   "outputs": [],
   "source": [
    "def get_data(files):\n",
    "    scn = Scene(files, reader='fci_l1c_nc')\n",
    "    scn.load(['ir_38'])\n",
    "    dd = {'b1': scn['ir_38']}\n",
    "    return dd"
   ]
  },
  {
   "cell_type": "code",
   "execution_count": null,
   "id": "2dee968e",
   "metadata": {},
   "outputs": [],
   "source": [
    "bb = get_data(ifiles_l15)"
   ]
  },
  {
   "cell_type": "code",
   "execution_count": null,
   "id": "ab39b03c",
   "metadata": {},
   "outputs": [],
   "source": [
    "bb.data.compute()"
   ]
  },
  {
   "cell_type": "code",
   "execution_count": 45,
   "id": "5ca8fab7",
   "metadata": {},
   "outputs": [
    {
     "data": {
      "text/plain": [
       "2.0241550702528723e-07"
      ]
     },
     "execution_count": 45,
     "metadata": {},
     "output_type": "execute_result"
    }
   ],
   "source": [
    "from pyfires.PYF_Rad2TbFuncs import compute_aval\n",
    "\n",
    "compute_aval({'platform': 'MTG-I1', 'inst': 'fci', 'chan': 'ir_38'})"
   ]
  },
  {
   "cell_type": "code",
   "execution_count": null,
   "id": "5980b3e0",
   "metadata": {},
   "outputs": [],
   "source": []
  }
 ],
 "metadata": {
  "kernelspec": {
   "display_name": "Python 3 (ipykernel)",
   "language": "python",
   "name": "python3"
  },
  "language_info": {
   "codemirror_mode": {
    "name": "ipython",
    "version": 3
   },
   "file_extension": ".py",
   "mimetype": "text/x-python",
   "name": "python",
   "nbconvert_exporter": "python",
   "pygments_lexer": "ipython3",
   "version": "3.11.6"
  }
 },
 "nbformat": 4,
 "nbformat_minor": 5
}
