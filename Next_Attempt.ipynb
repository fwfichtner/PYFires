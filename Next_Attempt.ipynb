{
 "cells": [
  {
   "cell_type": "code",
   "execution_count": 46,
   "id": "e18f5209",
   "metadata": {},
   "outputs": [
    {
     "name": "stdout",
     "output_type": "stream",
     "text": [
      "The autoreload extension is already loaded. To reload it, use:\n",
      "  %reload_ext autoreload\n"
     ]
    },
    {
     "name": "stderr",
     "output_type": "stream",
     "text": [
      "cannot convert float NaN to integer\n"
     ]
    }
   ],
   "source": [
    "%load_ext autoreload\n",
    "%autoreload 2\n",
    "\n",
    "from dask_image.ndfilters import median_filter, threshold_local, percentile_filter\n",
    "from dask_image.ndfilters import convolve, maximum_filter\n",
    "from pyfires.PYF_WindowStats import get_mea_std_window\n",
    "from cython.parallel import prange\n",
    "\n",
    "import dask\n",
    "dask.config.set(num_workers=8)\n",
    "\n",
    "import satpy\n",
    "satpy.config.set({'cache_dir': \"D:/sat_data/cache/\"})\n",
    "satpy.config.set({'cache_sensor_angles': True})\n",
    "satpy.config.set({'cache_lonlats': True})\n",
    "\n",
    "from datetime import datetime\n",
    "from satpy import Scene\n",
    "import dask.array as da\n",
    "from glob import glob\n",
    "from pyfires.PYF_detection import stage1_tests, run_basic_night_detection\n",
    "\n",
    "from pyfires.PYF_detection import stage1_tests, run_basic_night_detection, _make_kern\n",
    "import pyfires.PYF_Consts as PYFc\n",
    "from pyfires.PYF_basic import *\n",
    "\n",
    "from pyspectral.rsr_reader import RelativeSpectralResponse\n",
    "import numpy as np\n",
    "\n",
    "import warnings\n",
    "warnings.filterwarnings('ignore')\n",
    "\n",
    "from satpy import Scene\n",
    "from glob import glob\n",
    "import os\n",
    "bdict = {'vi1_band': 'B03',\n",
    "         'vi2_band': 'B06',\n",
    "         'mir_band': 'B07',\n",
    "         'lwi_band': 'B13'}\n",
    "\n",
    "\n",
    "curfile = 'D:/sat_data/ahi_main/in/0840/HS_H09_20231029_0840_B07_FLDK_R20_S0110.DAT'\n",
    "tod = 'D:/sat_data/ahi_main/out/'\n",
    "pos = curfile.find('B07')\n",
    "dtstr = curfile[pos-14:pos-1]\n",
    "ifiles_l15 = glob(f'{os.path.dirname(curfile)}/*{dtstr}*.DAT')\n",
    "in_data_dict = initial_load(ifiles_l15,  # List of files to load\n",
    "                            'ahi_hsd',   # The reader to use, in this case the AHI HSD reader\n",
    "                            bdict,       # The bands to load\n",
    "                            mir_bt_thresh=270, # The threshold for the MIR band, pixels cooler than this are excluded.\n",
    "                            lw_bt_thresh=260)\n",
    "\n",
    "#scn.save_datasets(base_dir=tod, enhance=False, dtype=np.float32)"
   ]
  },
  {
   "cell_type": "code",
   "execution_count": 43,
   "id": "7c933aab",
   "metadata": {},
   "outputs": [],
   "source": [
    "pfp = stage1_tests(in_data_dict['MIR__BT'],\n",
    "                   in_data_dict['BTD'],\n",
    "                   in_data_dict['VI1_DIFF'],\n",
    "                   in_data_dict['SZA'],\n",
    "                   in_data_dict['LSM'],\n",
    "                   ksizes=[5, 7, 9],\n",
    "                   do_lsm_mask=True)\n",
    "\n",
    "opts = {'def_fire_rad_vis': 0.5,\n",
    "        'def_fire_rad_vid': 0.1,\n",
    "        'sza_thresh': 97,\n",
    "        'vid_thresh': 0.02\n",
    "        }\n",
    "\n",
    "#scn.save_dataset('PFP', enhance=False, dtype=np.float32, base_dir=tod)\n",
    "\n",
    "night_res = run_basic_night_detection(in_data_dict['VI2_RAD'],\n",
    "                                      in_data_dict['SZA'],\n",
    "                                      in_data_dict['VI1_DIFF'],\n",
    "                                      pfp,\n",
    "                                      opts)"
   ]
  },
  {
   "cell_type": "code",
   "execution_count": 3,
   "id": "67fd8bbf",
   "metadata": {},
   "outputs": [],
   "source": [
    "vid_arr = scn['VI1_DIFF'].data\n",
    "sza_arr = scn['SZA'].data\n",
    "lwi_arr = scn['LW1__BT'].data\n",
    "\n",
    "vid_arr_np = np.array(vid_arr)\n",
    "lwi_arr_np = np.array(lwi_arr)\n",
    "sza_arr_np = np.array(sza_arr)"
   ]
  },
  {
   "cell_type": "code",
   "execution_count": 4,
   "id": "9a0aa9e9",
   "metadata": {},
   "outputs": [],
   "source": [
    "#scn.save_dataset('SZA', enhance=False, dtype=np.float32, base_dir=tod)"
   ]
  },
  {
   "cell_type": "code",
   "execution_count": 30,
   "id": "12f787a7",
   "metadata": {},
   "outputs": [],
   "source": [
    "\n",
    "#scn = vid_adjust_sza(scn)\n",
    "#scn.save_dataset('VI1_DIFF_2', base_dir=tod, enhance=False, dtype=np.float32)"
   ]
  },
  {
   "cell_type": "code",
   "execution_count": 6,
   "id": "341e84bd",
   "metadata": {},
   "outputs": [],
   "source": [
    "dets = da.where(scn['VI1_DIFF_2'] > 0, 1, 0)\n",
    "dets = da.where(scn['PFP'] > 0, dets, 0)"
   ]
  },
  {
   "cell_type": "code",
   "execution_count": 7,
   "id": "7d496833",
   "metadata": {},
   "outputs": [],
   "source": [
    "#save_output(scn, dets, 'dets', tod, 'VI1_DIFF')"
   ]
  },
  {
   "cell_type": "code",
   "execution_count": 8,
   "id": "46388ff1",
   "metadata": {},
   "outputs": [],
   "source": [
    "#scn.save_dataset('VI1_DIFF_2', base_dir=tod, enhance=False, dtype=np.float32)\n",
    "#scn.save_dataset('VI1_DIFF', base_dir=tod, enhance=False, dtype=np.float32)"
   ]
  },
  {
   "cell_type": "code",
   "execution_count": 9,
   "id": "d12330e0",
   "metadata": {},
   "outputs": [],
   "source": [
    "dets_arr = np.array(dets)\n",
    "vi_rad_arr = np.array(scn['VI1_RAD'])\n",
    "ndfi_arr = np.array(scn['mi_ndfi'])\n",
    "vi_diff_arr = np.array(scn['VI1_DIFF'])\n",
    "btd_arr = np.array(scn['BTD']) \n",
    "mir_bt_arr = np.array(scn['MIR__BT'])\n",
    "irr_arr = np.array(scn['VI2_RAD'])\n",
    "lwi_bt_arr = np.array(scn['LW1__BT'])\n",
    "lwi_rad_arr = np.array(scn['LW1_RAD'])\n",
    "lsm = np.array(scn['LSM'])\n",
    "sza_arr = scn['SZA'].data"
   ]
  },
  {
   "cell_type": "code",
   "execution_count": 10,
   "id": "63e60e3f",
   "metadata": {},
   "outputs": [],
   "source": [
    "dets_arr = np.array(dets).astype(np.uint8)"
   ]
  },
  {
   "cell_type": "code",
   "execution_count": 11,
   "id": "32afd88f",
   "metadata": {},
   "outputs": [
    {
     "name": "stdout",
     "output_type": "stream",
     "text": [
      "0.763708\n"
     ]
    }
   ],
   "source": [
    "st_time = datetime.utcnow()\n",
    "outa = get_mea_std_window(dets_arr,      # Potential fire pixel candidates\n",
    "                          vi_rad_arr,    # VIS chan\n",
    "                          ndfi_arr,      # NDFI\n",
    "                          lwi_bt_arr,    # LW Brightness Temperature\n",
    "                          btd_arr,       # MIR-LW BTD\n",
    "                          mir_bt_arr,    # MIR BT\n",
    "                          vi_diff_arr,   # MIR-LWIR-VIS radiance diff\n",
    "                          lsm,           # The land-sea mask\n",
    "                          255,\n",
    "                          15)\n",
    "en_time = datetime.utcnow()\n",
    "\n",
    "print((en_time - st_time).total_seconds())"
   ]
  },
  {
   "cell_type": "code",
   "execution_count": 12,
   "id": "4490e2ac",
   "metadata": {},
   "outputs": [],
   "source": [
    "perc_good  = np.squeeze(outa[0,:,:]); n_winpix   = np.squeeze(outa[1,:,:])\n",
    "n_cloudpix = np.squeeze(outa[2,:,:]); n_waterpix = np.squeeze(outa[3,:,:])\n",
    "mean_lw    = np.squeeze(outa[4,:,:]); std_lw     = np.squeeze(outa[5,:,:])\n",
    "mean_nd    = np.squeeze(outa[6,:,:]); std_nd     = np.squeeze(outa[7,:,:])\n",
    "mean_vi    = np.squeeze(outa[8,:,:]); std_vi     = np.squeeze(outa[9,:,:])\n",
    "mean_btd   = np.squeeze(outa[10,:,:]); std_btd    = np.squeeze(outa[11,:,:])\n",
    "mean_mir   = np.squeeze(outa[12,:,:]); std_mir    = np.squeeze(outa[13,:,:])\n",
    "mean_vid   = np.squeeze(outa[14,:,:]); std_vid    = np.squeeze(outa[15,:,:])\n",
    "\n",
    "vis_window_arr = vi_rad_arr - (mean_vi + 1.5 * std_vi)\n",
    "ndfi_window_arr = ndfi_arr - (mean_nd + 1.5 * std_nd)\n",
    "btd_window_arr = btd_arr - (mean_btd + 1.5 * std_btd)\n",
    "mir_window_arr = mir_bt_arr - (mean_mir + 1.5 * std_mir)\n",
    "visdif_window_arr = vi_diff_arr - (mean_vid + 1.5 * std_vid)\n",
    "\n",
    "x1 = 0.02\n",
    "x2 = 8.\n",
    "\n",
    "t1 = 270\n",
    "t2 = 300\n",
    "\n",
    "grad = (x2 - x1) / (t2 - t1)\n",
    "\n",
    "lw_std_mult = grad * (lwi_bt_arr - t1)\n",
    "lw_std_mult = np.where(lw_std_mult > x2, x2, lw_std_mult)\n",
    "lw_std_mult = np.where(lw_std_mult < x1, x1, lw_std_mult)\n",
    "\n",
    "lw_window_arr =  mean_lw - lw_std_mult * std_lw"
   ]
  },
  {
   "cell_type": "code",
   "execution_count": 13,
   "id": "cc1fff0b",
   "metadata": {},
   "outputs": [],
   "source": [
    "save_output(scn, mean_nd, 'mean_nd', tod, 'VI1_DIFF')\n",
    "save_output(scn, std_nd, 'std_nd', tod, 'VI1_DIFF')\n",
    "save_output(scn, mean_lw, 'mean_lw', tod, 'VI1_DIFF')\n",
    "save_output(scn, std_lw, 'std_lw', tod, 'VI1_DIFF')\n",
    "save_output(scn, mean_btd, 'mean_btd', tod, 'VI1_DIFF')\n",
    "save_output(scn, std_btd, 'std_btd', tod, 'VI1_DIFF')\n",
    "save_output(scn, mean_vid, 'mean_vid', tod, 'VI1_DIFF')\n",
    "save_output(scn, std_vid, 'std_vid', tod, 'VI1_DIFF')\n",
    "save_output(scn, mean_mir, 'mean_mir', tod, 'VI1_DIFF')\n",
    "save_output(scn, std_mir, 'std_mir', tod, 'VI1_DIFF')\n",
    "\n",
    "#save_output(scn, perc_good, 'perc_good', tod, 'VI1_DIFF')\n",
    "save_output(scn, n_cloudpix, 'n_cloudpix', tod, 'VI1_DIFF')\n",
    "save_output(scn, n_waterpix, 'n_waterpix', tod, 'VI1_DIFF')\n",
    "save_output(scn, n_winpix, 'n_winpix', tod, 'VI1_DIFF')"
   ]
  },
  {
   "cell_type": "code",
   "execution_count": 14,
   "id": "349e0e4f",
   "metadata": {},
   "outputs": [],
   "source": [
    "gd_t4 = mean_mir + 2 * std_mir\n",
    "gd_btd1 = mean_btd + 2.5\n",
    "gd_btd2 = mean_btd + 2 * std_btd\n",
    "\n",
    "btd_thresh = np.where(sza_arr > 70, 3, 5)\n",
    "\n",
    "lwbt_mult = (lwi_bt_arr - 270) / 30\n",
    "lwbt_mult = np.where(lwbt_mult > 1, 1, lwbt_mult)\n",
    "lwbt_mult = np.where(lwbt_mult < 0, 0, lwbt_mult)\n",
    "lwbt_mult = 1. / (0.25 + 0.75 * lwbt_mult)\n",
    "\n",
    "sza_mult = np.cos(np.deg2rad(sza_arr))\n",
    "sza_mult = 0.4 + ((90 - sza_arr) / 90.)\n",
    "ndfi_thresh = 0.001 + ((0.006 * lwbt_mult) + (0.003 / perc_good)) * sza_mult\n",
    "\n",
    "#save_output(scn, gd_t4, 'gd_t4', tod, 'VI1_DIFF')\n",
    "#save_output(scn, gd_btd1, 'gd_btd1', tod, 'VI1_DIFF')\n",
    "#save_output(scn, gd_btd2, 'gd_btd2', tod, 'VI1_DIFF')\n",
    "#save_output(scn, lwbt_mult, 'lwbt_mult', tod, 'VI1_DIFF')\n",
    "#save_output(scn, ndfi_thresh, 'ndfi_thresh', tod, 'VI1_DIFF')\n",
    "#save_output(scn, sza_mult, 'sza_mult', tod, 'VI1_DIFF')"
   ]
  },
  {
   "cell_type": "code",
   "execution_count": 15,
   "id": "77aea3ec",
   "metadata": {},
   "outputs": [],
   "source": [
    "outarr = da.where(dets_arr > 0,                  1,        0)      #t1\n",
    "outarr = da.where(ndfi_window_arr > ndfi_thresh, outarr+1, outarr) #t2\n",
    "outarr = da.where(visdif_window_arr > 0,         outarr+1, outarr) #t3\n",
    "outarr = da.where(vis_window_arr < 0.1,          outarr+1, outarr) #t4\n",
    "outarr = da.where(lwi_bt_arr > 260,              outarr+1, outarr) #t5\n",
    "outarr = da.where(mir_window_arr > 0,            outarr+1, outarr) #t6\n",
    "outarr = da.where(lsm == 2,                      outarr+1, outarr) #t7\n",
    "outarr = da.where(mir_bt_arr > gd_t4,            outarr+1, outarr) #t8\n",
    "outarr = da.where(btd_arr > gd_btd1,             outarr+1, outarr) #t9\n",
    "outarr = da.where(btd_arr > gd_btd2,             outarr+1, outarr) #t10\n",
    "outarr = da.where(lwi_bt_arr > lw_window_arr,    outarr+1, outarr) #t11\n",
    "outarr = da.where(perc_good > 0.4,               outarr,   0)      #t12\n",
    "outarr = da.where(dets_arr > 0,                  outarr,   0)      #final\n",
    "\n",
    "vi_diff_def_thr = 0.25\n",
    "\n",
    "outarr = da.where(vi_diff_arr > vi_diff_def_thr, 10, outarr)\n",
    "\n",
    "save_output(scn, outarr, 'outarr', tod, 'VI1_DIFF')"
   ]
  },
  {
   "cell_type": "code",
   "execution_count": 55,
   "id": "35e4ae4b",
   "metadata": {},
   "outputs": [],
   "source": [
    "conf_val = do_stage5(btd_arr, mean_btd, std_btd, mir_bt_arr, mean_mir, std_mir, sza_arr, n_winpix, n_cloudpix, n_waterpix)\n",
    "conf_val = np.where(outarr > 0, conf_val, 0)\n",
    "save_output(scn, conf_val, 'conf_val', tod, 'VI1_DIFF')"
   ]
  },
  {
   "cell_type": "code",
   "execution_count": 56,
   "id": "541f239b",
   "metadata": {},
   "outputs": [],
   "source": [
    "a_val = PYFc.rad_to_bt_dict[scn['pix_area'].attrs['platform_name']]\n",
    "frp_est = (scn['pix_area'] * PYFc.sigma / a_val) * (scn['MIR__BT'] - mean_mir)\n",
    "frp_est = np.where(mean_mir > 0, frp_est, 0)\n",
    "\n",
    "scn['frp_est'] = scn['VI1_DIFF'].copy()\n",
    "scn['frp_est'].attrs['name'] = 'frp_estimate'\n",
    "scn['frp_est'].attrs['units'] = 'MW'\n",
    "scn['frp_est'].data = frp_est\n"
   ]
  },
  {
   "cell_type": "code",
   "execution_count": 58,
   "id": "479ff6ad",
   "metadata": {},
   "outputs": [],
   "source": [
    "results = np.where(outarr >= 10, frp_est, 0)"
   ]
  },
  {
   "cell_type": "code",
   "execution_count": 59,
   "id": "67a1990e",
   "metadata": {},
   "outputs": [],
   "source": [
    "\n",
    "save_output(scn, results, 'results', tod, 'VI1_DIFF')"
   ]
  },
  {
   "cell_type": "code",
   "execution_count": 3,
   "id": "3f1d776f",
   "metadata": {},
   "outputs": [
    {
     "name": "stderr",
     "output_type": "stream",
     "text": [
      "The following datasets were not created and may require resampling to be generated: DataID(name='true_color_reproduction')\n",
      "The input area chunks are large. This usually means that the input area is of much higher resolution than the output area. You can reduce the chunks passed, and ponder whether you are using the right resampler for the job.\n",
      "The input area chunks are large. This usually means that the input area is of much higher resolution than the output area. You can reduce the chunks passed, and ponder whether you are using the right resampler for the job.\n",
      "The input area chunks are large. This usually means that the input area is of much higher resolution than the output area. You can reduce the chunks passed, and ponder whether you are using the right resampler for the job.\n",
      "The input area chunks are large. This usually means that the input area is of much higher resolution than the output area. You can reduce the chunks passed, and ponder whether you are using the right resampler for the job.\n",
      "The input area chunks are large. This usually means that the input area is of much higher resolution than the output area. You can reduce the chunks passed, and ponder whether you are using the right resampler for the job.\n",
      "The input area chunks are large. This usually means that the input area is of much higher resolution than the output area. You can reduce the chunks passed, and ponder whether you are using the right resampler for the job.\n",
      "The input area chunks are large. This usually means that the input area is of much higher resolution than the output area. You can reduce the chunks passed, and ponder whether you are using the right resampler for the job.\n",
      "The input area chunks are large. This usually means that the input area is of much higher resolution than the output area. You can reduce the chunks passed, and ponder whether you are using the right resampler for the job.\n",
      "The input area chunks are large. This usually means that the input area is of much higher resolution than the output area. You can reduce the chunks passed, and ponder whether you are using the right resampler for the job.\n",
      "The input area chunks are large. This usually means that the input area is of much higher resolution than the output area. You can reduce the chunks passed, and ponder whether you are using the right resampler for the job.\n",
      "The input area chunks are large. This usually means that the input area is of much higher resolution than the output area. You can reduce the chunks passed, and ponder whether you are using the right resampler for the job.\n",
      "The input area chunks are large. This usually means that the input area is of much higher resolution than the output area. You can reduce the chunks passed, and ponder whether you are using the right resampler for the job.\n",
      "The input area chunks are large. This usually means that the input area is of much higher resolution than the output area. You can reduce the chunks passed, and ponder whether you are using the right resampler for the job.\n"
     ]
    }
   ],
   "source": [
    "scn = Scene(ifiles_l15, reader='ahi_hsd')\n",
    "scn.load(['true_color_reproduction', 'B13'])\n",
    "scn = scn.resample(scn.coarsest_area(), resampler='gradient_search')\n",
    "scn.save_dataset('true_color_reproduction', base_dir=tod)"
   ]
  },
  {
   "cell_type": "code",
   "execution_count": 57,
   "id": "d6a3fca2",
   "metadata": {},
   "outputs": [
    {
     "name": "stderr",
     "output_type": "stream",
     "text": [
      "cannot convert float NaN to integer\n"
     ]
    }
   ],
   "source": [
    "from Example_Detection import main\n",
    "\n",
    "ds_di = main(curfile, tod)"
   ]
  },
  {
   "cell_type": "code",
   "execution_count": 52,
   "id": "48470554",
   "metadata": {},
   "outputs": [],
   "source": [
    "bob = make_output_scene(in_data_dict)"
   ]
  },
  {
   "cell_type": "code",
   "execution_count": 60,
   "id": "23a51e00",
   "metadata": {},
   "outputs": [
    {
     "data": {
      "text/plain": [
       "[DataID(name='BTD', wavelength=WavelengthRange(min=3.7, central=3.9, max=4.1, unit='µm'), resolution=2000, calibration=<3>, modifiers=()),\n",
       " DataID(name='LSM', wavelength=WavelengthRange(min=3.7, central=3.9, max=4.1, unit='µm'), resolution=2000, calibration=<3>, modifiers=()),\n",
       " DataID(name='LW1_RAD', wavelength=WavelengthRange(min=10.2, central=10.4, max=10.6, unit='µm'), resolution=2000, calibration=<3>, modifiers=()),\n",
       " DataID(name='LW1__BT', wavelength=WavelengthRange(min=10.2, central=10.4, max=10.6, unit='µm'), resolution=2000, calibration=<2>, modifiers=()),\n",
       " DataID(name='MIR_RAD', wavelength=WavelengthRange(min=3.7, central=3.9, max=4.1, unit='µm'), resolution=2000, calibration=<3>, modifiers=()),\n",
       " DataID(name='MIR_RAD_NO_IR', wavelength=WavelengthRange(min=3.7, central=3.9, max=4.1, unit='µm'), resolution=2000, calibration=<3>, modifiers=()),\n",
       " DataID(name='MIR__BT', wavelength=WavelengthRange(min=3.7, central=3.9, max=4.1, unit='µm'), resolution=2000, calibration=<2>, modifiers=()),\n",
       " DataID(name='RAD_ADD', wavelength=WavelengthRange(min=3.7, central=3.9, max=4.1, unit='µm'), resolution=2000, calibration=<3>, modifiers=()),\n",
       " DataID(name='SZA', wavelength=WavelengthRange(min=10.2, central=10.4, max=10.6, unit='µm'), resolution=2000, calibration=<2>, modifiers=()),\n",
       " DataID(name='VI1_DIFF', wavelength=WavelengthRange(min=3.7, central=3.9, max=4.1, unit='µm'), resolution=2000, calibration=<3>, modifiers=()),\n",
       " DataID(name='VI1_DIFF_2', wavelength=WavelengthRange(min=3.7, central=3.9, max=4.1, unit='µm'), resolution=2000, calibration=<3>, modifiers=()),\n",
       " DataID(name='VI1_RAD', wavelength=WavelengthRange(min=0.62, central=0.64, max=0.66, unit='µm'), resolution=500, calibration=<3>, modifiers=()),\n",
       " DataID(name='VI2_RAD', wavelength=WavelengthRange(min=2.2, central=2.3, max=2.4, unit='µm'), resolution=2000, calibration=<3>, modifiers=()),\n",
       " DataID(name='VZA', wavelength=WavelengthRange(min=10.2, central=10.4, max=10.6, unit='µm'), resolution=2000, calibration=<2>, modifiers=()),\n",
       " DataID(name='mi_ndfi', wavelength=WavelengthRange(min=3.7, central=3.9, max=4.1, unit='µm'), resolution=2000, calibration=<3>, modifiers=()),\n",
       " DataID(name='pix_area', wavelength=WavelengthRange(min=10.2, central=10.4, max=10.6, unit='µm'), resolution=2000, calibration=<2>, modifiers=())]"
      ]
     },
     "execution_count": 60,
     "metadata": {},
     "output_type": "execute_result"
    }
   ],
   "source": [
    "bob._datasets.keys()"
   ]
  },
  {
   "cell_type": "code",
   "execution_count": 64,
   "id": "4e295b98",
   "metadata": {},
   "outputs": [],
   "source": []
  },
  {
   "cell_type": "code",
   "execution_count": 78,
   "id": "4a1949d0",
   "metadata": {},
   "outputs": [
    {
     "data": {
      "text/plain": [
       "array([[ True,  True,  True, ...,  True,  True,  True],\n",
       "       [ True,  True,  True, ...,  True,  True,  True],\n",
       "       [ True,  True,  True, ...,  True,  True,  True],\n",
       "       ...,\n",
       "       [ True,  True,  True, ...,  True,  True,  True],\n",
       "       [ True,  True,  True, ...,  True,  True,  True],\n",
       "       [ True,  True,  True, ...,  True,  True,  True]])"
      ]
     },
     "execution_count": 78,
     "metadata": {},
     "output_type": "execute_result"
    }
   ],
   "source": [
    "np.array((scn['bob'] > 240)  + (scn['bob'] < 240)) "
   ]
  },
  {
   "cell_type": "code",
   "execution_count": 74,
   "id": "eb0a43ef",
   "metadata": {},
   "outputs": [
    {
     "data": {
      "text/plain": [
       "array([[1, 1, 1, ..., 1, 1, 1],\n",
       "       [1, 1, 1, ..., 1, 1, 1],\n",
       "       [1, 1, 1, ..., 1, 1, 1],\n",
       "       ...,\n",
       "       [1, 1, 1, ..., 1, 1, 1],\n",
       "       [1, 1, 1, ..., 1, 1, 1],\n",
       "       [1, 1, 1, ..., 1, 1, 1]], dtype=uint8)"
      ]
     },
     "execution_count": 74,
     "metadata": {},
     "output_type": "execute_result"
    }
   ],
   "source": []
  },
  {
   "cell_type": "code",
   "execution_count": 75,
   "id": "50e3ac4f",
   "metadata": {},
   "outputs": [
    {
     "data": {
      "text/plain": [
       "1"
      ]
     },
     "execution_count": 75,
     "metadata": {},
     "output_type": "execute_result"
    }
   ],
   "source": [
    "np.nanmax((scn['bob'] > 240).astype(np.uint8))"
   ]
  },
  {
   "cell_type": "code",
   "execution_count": 76,
   "id": "21764908",
   "metadata": {},
   "outputs": [
    {
     "data": {
      "text/plain": [
       "0"
      ]
     },
     "execution_count": 76,
     "metadata": {},
     "output_type": "execute_result"
    }
   ],
   "source": [
    "np.nanmin(scn['bob'])"
   ]
  },
  {
   "cell_type": "code",
   "execution_count": null,
   "id": "29acdcfa",
   "metadata": {},
   "outputs": [],
   "source": []
  }
 ],
 "metadata": {
  "kernelspec": {
   "display_name": "Python 3 (ipykernel)",
   "language": "python",
   "name": "python3"
  },
  "language_info": {
   "codemirror_mode": {
    "name": "ipython",
    "version": 3
   },
   "file_extension": ".py",
   "mimetype": "text/x-python",
   "name": "python",
   "nbconvert_exporter": "python",
   "pygments_lexer": "ipython3",
   "version": "3.11.6"
  }
 },
 "nbformat": 4,
 "nbformat_minor": 5
}
