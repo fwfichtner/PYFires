{
 "cells": [
  {
   "cell_type": "code",
   "execution_count": 81,
   "id": "e18f5209",
   "metadata": {},
   "outputs": [
    {
     "name": "stdout",
     "output_type": "stream",
     "text": [
      "The autoreload extension is already loaded. To reload it, use:\n",
      "  %reload_ext autoreload\n"
     ]
    },
    {
     "name": "stderr",
     "output_type": "stream",
     "text": [
      "cannot convert float NaN to integer\n"
     ]
    }
   ],
   "source": [
    "%load_ext autoreload\n",
    "%autoreload 2\n",
    "\n",
    "from dask_image.ndfilters import median_filter, threshold_local, percentile_filter\n",
    "from dask_image.ndfilters import convolve, maximum_filter\n",
    "from pyfires.PYF_WindowStats import get_mea_std_window\n",
    "from satpy.modifiers.angles import _get_sun_angles\n",
    "from cython.parallel import prange\n",
    "\n",
    "import dask\n",
    "dask.config.set(num_workers=8)\n",
    "\n",
    "import satpy\n",
    "satpy.config.set({'cache_dir': \"D:/sat_data/cache/\"})\n",
    "satpy.config.set({'cache_sensor_angles': True})\n",
    "satpy.config.set({'cache_lonlats': True})\n",
    "\n",
    "from datetime import datetime\n",
    "from satpy import Scene\n",
    "import dask.array as da\n",
    "from glob import glob\n",
    "from pyfires.PYF_detection import stage1_tests, run_basic_night_detection\n",
    "\n",
    "from pyfires.PYF_detection import stage1_tests, run_basic_night_detection, _make_kern\n",
    "import pyfires.PYF_Consts as PYFc\n",
    "from pyfires.PYF_basic import *\n",
    "\n",
    "from pyspectral.rsr_reader import RelativeSpectralResponse\n",
    "import xarray as xr\n",
    "import numpy as np\n",
    "\n",
    "import warnings\n",
    "warnings.filterwarnings('ignore')\n",
    "\n",
    "from satpy import Scene\n",
    "from glob import glob\n",
    "import os\n",
    "bdict = {'vi1_band': 'B03',\n",
    "         'vi2_band': 'B06',\n",
    "         'mir_band': 'B07',\n",
    "         'lwi_band': 'B13'}\n",
    "\n",
    "\n",
    "curfile = 'D:/sat_data/ahi_main/in/0840/HS_H09_20231029_0840_B07_FLDK_R20_S0110.DAT'\n",
    "tod = 'D:/sat_data/ahi_main/out/'\n",
    "pos = curfile.find('B07')\n",
    "dtstr = curfile[pos-14:pos-1]\n",
    "ifiles_l15 = glob(f'{os.path.dirname(curfile)}/*{dtstr}*.DAT')\n",
    "scn = Scene(ifiles_l15, reader='ahi_hsd')\n",
    "scn.load(['B03', 'B13'])\n",
    "scn = scn.resample(scn.coarsest_area(), resampler='native')\n",
    "#scn.save_datasets(base_dir=tod, enhance=False, dtype=np.float32)\n",
    "data_dict = initial_load(ifiles_l15,  # List of files to load\n",
    "                         'ahi_hsd',   # The reader to use, in this case the AHI HSD reader\n",
    "                         bdict,       # The bands to load\n",
    "                         mir_bt_thresh=270, # The threshold for the MIR band, pixels cooler than this are excluded.\n",
    "                         lw_bt_thresh=260)\n"
   ]
  },
  {
   "cell_type": "code",
   "execution_count": 82,
   "id": "bf536ea7",
   "metadata": {},
   "outputs": [],
   "source": [
    "data_dict['PFP'] = stage1_tests(data_dict['MIR__BT'],\n",
    "                                data_dict['BTD'],\n",
    "                                data_dict['VI1_DIFF'],\n",
    "                                data_dict['SZA'],\n",
    "                                data_dict['LSM'],\n",
    "                                ksizes=[5, 7, 9],\n",
    "                                do_lsm_mask=True)"
   ]
  },
  {
   "cell_type": "code",
   "execution_count": 85,
   "id": "5676ec55",
   "metadata": {},
   "outputs": [
    {
     "name": "stdout",
     "output_type": "stream",
     "text": [
      "0.005226888907252563\n",
      "0.005519401138531416\n",
      "0.0063395004736882905\n",
      "0.010535507086029615\n",
      "0.04184438839166822\n",
      "0.13831809322871033\n",
      "1.0\n"
     ]
    }
   ],
   "source": [
    "from pyspectral.solar import SolarIrradianceSpectrum as SIS\n",
    "from pyspectral.rsr_reader import RelativeSpectralResponse\n",
    "\n",
    "scn = Scene(ifiles_l15, reader='ahi_hsd')\n",
    "scn2 = Scene(ifiles_l15, reader='ahi_hsd')\n",
    "mir_band = 'B07'\n",
    "lwi_band = 'B13'\n",
    "\n",
    "blist = ['B01', 'B02', 'B03', 'B04', 'B05', 'B06']\n",
    "\n",
    "blist = blist + [mir_band]\n",
    "scn2.load(['B13'])\n",
    "scn.load(blist + ['B07'], calibration='radiance')\n",
    "scn = scn.resample(scn.coarsest_area(), resampler='native')\n",
    "\n",
    "sensor = scn[mir_band].attrs['sensor']\n",
    "platform = scn[mir_band].attrs['platform_name']\n",
    "srf = RelativeSpectralResponse(platform, sensor)\n",
    "\n",
    "cur_rsr = srf.rsr[mir_band]\n",
    "wvl_mir = cur_rsr['det-1']['central_wavelength']\n",
    "\n",
    "exp_rad = calc_rad_fromtb(scn2[lwi_band].data, wvl_mir)\n",
    "\n",
    "out_rad = {}\n",
    "for band_name in blist + ['B07']:\n",
    "    cur_rsr = srf.rsr[band_name]\n",
    "    irrad = SIS().inband_solarirradiance(cur_rsr)\n",
    "    out_rad[band_name] = irrad\n",
    "    \n",
    "scn[mir_band].data = scn[mir_band].data - exp_rad\n",
    "\n",
    "scn[mir_band].data = scn[mir_band].where(scn[mir_band].data > 0.001)\n",
    "\n",
    "saa, sza_data = _get_sun_angles(scn[mir_band])\n",
    "sza_data = xr.where(sza_data > 85, 85, sza_data)\n",
    "\n",
    "for band_name in blist:\n",
    "    print(out_rad[mir_band] / out_rad[band_name])\n",
    "    scn[band_name].data = (np.pi * scn[band_name].data / out_rad[band_name]) / np.cos(np.deg2rad(sza_data))\n",
    "    #scn[band_name].data = scn[band_name].data * (out_rad[mir_band] / out_rad[band_name])\n",
    "\n",
    "\n",
    "#    scn[band_name].data = scn[band_name].data / scn[mir_band].data\n",
    "#    scn[band_name ].data = scn[band_name].where(np.isfinite(scn[mir_band].data))\n",
    "\n",
    "#scn.save_datasets(base_dir=tod, enhance=False, dtype=np.float32)"
   ]
  },
  {
   "cell_type": "code",
   "execution_count": 86,
   "id": "c948f2dc",
   "metadata": {},
   "outputs": [],
   "source": [
    "bob = (scn['B07'] - scn['B04'] > 0)\n",
    "#save_output(scn, bob, 'bob', tod)"
   ]
  },
  {
   "cell_type": "code",
   "execution_count": 88,
   "id": "51d2c635",
   "metadata": {},
   "outputs": [],
   "source": [
    "save_output(scn, bob * data_dict['PFP'], 'bob2', tod)"
   ]
  },
  {
   "cell_type": "code",
   "execution_count": null,
   "id": "66e60b4b",
   "metadata": {},
   "outputs": [],
   "source": []
  }
 ],
 "metadata": {
  "kernelspec": {
   "display_name": "Python 3 (ipykernel)",
   "language": "python",
   "name": "python3"
  },
  "language_info": {
   "codemirror_mode": {
    "name": "ipython",
    "version": 3
   },
   "file_extension": ".py",
   "mimetype": "text/x-python",
   "name": "python",
   "nbconvert_exporter": "python",
   "pygments_lexer": "ipython3",
   "version": "3.11.6"
  }
 },
 "nbformat": 4,
 "nbformat_minor": 5
}
