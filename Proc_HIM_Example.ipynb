{
 "cells": [
  {
   "cell_type": "code",
   "execution_count": 1,
   "id": "e18f5209",
   "metadata": {},
   "outputs": [],
   "source": [
    "%load_ext autoreload\n",
    "%autoreload 2\n",
    "\n",
    "import dask\n",
    "dask.config.set(num_workers=20)\n",
    "\n",
    "import satpy\n",
    "satpy.config.set({'cache_dir': \"/home/ubuntu/data/cache/\"})\n",
    "satpy.config.set({'cache_sensor_angles': True})\n",
    "satpy.config.set({'cache_lonlats': True})\n",
    "\n",
    "from datetime import datetime\n",
    "from satpy import Scene\n",
    "from glob import glob\n",
    "import numpy as np\n",
    "import os\n",
    "\n",
    "\n",
    "import warnings\n",
    "warnings.filterwarnings('ignore')\n",
    "\n",
    "#debug_on()"
   ]
  },
  {
   "cell_type": "code",
   "execution_count": null,
   "id": "7c933aab",
   "metadata": {
    "scrolled": true
   },
   "outputs": [
    {
     "name": "stdout",
     "output_type": "stream",
     "text": [
      "/home/ubuntu/data/out//fire_radiative_power_20240415_235000.tif\n",
      "/home/ubuntu/data/out//fire_radiative_power_20240415_234000.tif\n",
      "/home/ubuntu/data/out//fire_radiative_power_20240415_233000.tif\n",
      "/home/ubuntu/data/out//fire_radiative_power_20240415_232000.tif\n",
      "/home/ubuntu/data/out//fire_radiative_power_20240415_231000.tif\n",
      "/home/ubuntu/data/out//fire_radiative_power_20240415_230000.tif\n",
      "/home/ubuntu/data/out//fire_radiative_power_20240415_225000.tif\n"
     ]
    }
   ],
   "source": [
    "import dask\n",
    "dask.config.set(scheduler='threads') \n",
    "\n",
    "curfile = \"/home/ubuntu/data/him/HS_H09_20231029_0840_B07_FLDK_R20_S0110.DAT\"\n",
    "tod = \"/home/ubuntu/data/out/\"\n",
    "\n",
    "\n",
    "bbox = (-2000000, -2770000, 790000, -940000)\n",
    "\n",
    "comp = 'fire_radiative_power'\n",
    "\n",
    "idirs = glob('/home/ubuntu/data/him/*')\n",
    "idirs.sort()\n",
    "idirs.reverse()\n",
    "with dask.config.set({\"array.chunk-size\": \"24MiB\"}):\n",
    "    for cdir in idirs:\n",
    "        ifiles_l15 = glob(cdir+'/*.DAT')\n",
    "        if len(ifiles_l15) < 5:\n",
    "            continue\n",
    "        curf = ifiles_l15[0]\n",
    "        pos = curf.find('HS_H')\n",
    "        dtstr = curf[pos+7:pos+7+13]\n",
    "        outf = f'{tod}/{comp}_{dtstr}00.tif'\n",
    "        print(outf)\n",
    "        \n",
    "        st = datetime.utcnow()\n",
    "        if not os.path.isfile(outf):\n",
    "            scn = Scene(ifiles_l15, reader='ahi_hsd')\n",
    "            scn.load([comp], generate=False)\n",
    "            #scn.load(['B07'], calibration='radiance')\n",
    "            #scn.load([comp], generate=False)\n",
    "           # scn2 = scn.crop(xy_bbox = bbox)\n",
    "            scn3 = scn.resample(scn.coarsest_area(), resampler='native')\n",
    "           # scn3.save_datasets(filename=outf,  fill_value=0, writer='simple_image')\n",
    "            scn3.save_datasets(base_dir=tod, enhance=False, dtype=np.float32, fill_value=0)\n",
    "\n",
    "            en = datetime.utcnow()\n",
    "            print(dtstr, (en-st).total_seconds())"
   ]
  },
  {
   "cell_type": "code",
   "execution_count": null,
   "id": "271b06a2",
   "metadata": {},
   "outputs": [],
   "source": []
  }
 ],
 "metadata": {
  "kernelspec": {
   "display_name": "Python 3 (ipykernel)",
   "language": "python",
   "name": "python3"
  },
  "language_info": {
   "codemirror_mode": {
    "name": "ipython",
    "version": 3
   },
   "file_extension": ".py",
   "mimetype": "text/x-python",
   "name": "python",
   "nbconvert_exporter": "python",
   "pygments_lexer": "ipython3",
   "version": "3.12.2"
  }
 },
 "nbformat": 4,
 "nbformat_minor": 5
}
