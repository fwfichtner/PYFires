{
 "cells": [
  {
   "cell_type": "code",
   "execution_count": 1,
   "id": "e18f5209",
   "metadata": {},
   "outputs": [],
   "source": [
    "%load_ext autoreload\n",
    "%autoreload 2\n",
    "\n",
    "import dask\n",
    "import satpy\n",
    "from tempfile import gettempdir\n",
    "from pathlib import Path\n",
    "from dask.diagnostics import Profiler, ResourceProfiler, visualize\n",
    "from datetime import datetime, timezone\n",
    "from satpy import Scene, find_files_and_readers\n",
    "import hdf5plugin  # noqa: F401\n",
    "\n",
    "import warnings\n",
    "\n",
    "dask.config.set(num_workers=20)\n",
    "satpy.config.set({'cache_dir': str(Path(f\"{gettempdir()}\").joinpath('cache'))})\n",
    "satpy.config.set({'cache_sensor_angles': True})\n",
    "satpy.config.set({'cache_lonlats': True})\n",
    "warnings.filterwarnings('ignore')\n",
    "\n",
    "#debug_on()"
   ]
  },
  {
   "cell_type": "code",
   "execution_count": 3,
   "id": "7c933aab",
   "metadata": {
    "scrolled": false
   },
   "outputs": [
    {
     "name": "stdout",
     "output_type": "stream",
     "text": [
      "\n",
      " 20.334481\n"
     ]
    }
   ],
   "source": [
    "dask.config.set(scheduler='threads') \n",
    "\n",
    "\n",
    "bbox = (-1600000, -2770000, 690000, -1040000)\n",
    "\n",
    "comp = \"ir_105\"\n",
    "\n",
    "p = Path(\"testfiles\")\n",
    "infiles = p.joinpath(\"in\")\n",
    "infiles.mkdir(exist_ok=True)\n",
    "tod = p.joinpath(\"out\")\n",
    "tod.mkdir(exist_ok=True)\n",
    "\n",
    "hr = True\n",
    "if hr:\n",
    "    infiles = infiles.joinpath(\"hr\")\n",
    "    tod = tod.joinpath(\"hr\")\n",
    "else:\n",
    "    infiles = infiles.joinpath(\"nr\")\n",
    "    tod = tod.joinpath(\"nr\")\n",
    "\n",
    "\n",
    "files = find_files_and_readers(base_dir=infiles, reader=\"fci_l1c_nc\")\n",
    "with dask.config.set({\"array.chunk-size\": \"32MiB\"}):\n",
    "    with Profiler() as prof, ResourceProfiler(dt=0.25) as rprof:\n",
    "        st = datetime.now(timezone.utc)\n",
    "        #if not os.path.isfile(outf):\n",
    "        if True:\n",
    "            scn = Scene(files)\n",
    "            scn.load([comp], generate=False)\n",
    "            scn2 = scn.chunk(chunks=(696*2, 696*2))\n",
    "           # scn.load(['ir_38'], calibration='radiance')\n",
    "            #scn.load([comp], generate=False)\n",
    "            scn3 = scn2.resample(\"euro1\")\n",
    "            scn3.save_dataset(comp, base_dir=tod,  fill_value=0)\n",
    "            #scn3.save_dataset(comp, base_dir=tod, enhance=False, dtype=np.float32, fill_value=0)\n",
    "\n",
    "        en = datetime.now(timezone.utc)\n",
    "        print('\\n', (en-st).total_seconds())\n",
    "    visualize([prof, rprof], show=False, save=True, filename=str(tod.joinpath(\"frp_new.html\")))"
   ]
  }
 ],
 "metadata": {
  "kernelspec": {
   "display_name": ".venv",
   "language": "python",
   "name": "python3"
  },
  "language_info": {
   "codemirror_mode": {
    "name": "ipython",
    "version": 3
   },
   "file_extension": ".py",
   "mimetype": "text/x-python",
   "name": "python",
   "nbconvert_exporter": "python",
   "pygments_lexer": "ipython3",
   "version": "3.10.12"
  }
 },
 "nbformat": 4,
 "nbformat_minor": 5
}
