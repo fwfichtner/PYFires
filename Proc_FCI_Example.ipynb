{
 "cells": [
  {
   "cell_type": "code",
   "execution_count": 1,
   "id": "e18f5209",
   "metadata": {},
   "outputs": [],
   "source": [
    "%load_ext autoreload\n",
    "%autoreload 2\n",
    "\n",
    "import dask\n",
    "dask.config.set(num_workers=20)\n",
    "\n",
    "import satpy\n",
    "satpy.config.set({'cache_dir': \"D:/sat_data/cache/\"})\n",
    "satpy.config.set({'cache_sensor_angles': True})\n",
    "satpy.config.set({'cache_lonlats': True})\n",
    "\n",
    "from dask.diagnostics import Profiler, ResourceProfiler, visualize\n",
    "from datetime import datetime\n",
    "from satpy import Scene\n",
    "from glob import glob\n",
    "\n",
    "\n",
    "import warnings\n",
    "warnings.filterwarnings('ignore')\n",
    "\n",
    "#debug_on()"
   ]
  },
  {
   "cell_type": "code",
   "execution_count": 3,
   "id": "7c933aab",
   "metadata": {
    "scrolled": false
   },
   "outputs": [
    {
     "ename": "ValueError",
     "evalue": "'filenames' was provided but is empty.",
     "output_type": "error",
     "traceback": [
      "\u001b[0;31m---------------------------------------------------------------------------\u001b[0m",
      "\u001b[0;31mValueError\u001b[0m                                Traceback (most recent call last)",
      "Cell \u001b[0;32mIn[3], line 18\u001b[0m\n\u001b[1;32m     16\u001b[0m \u001b[38;5;66;03m#if not os.path.isfile(outf):\u001b[39;00m\n\u001b[1;32m     17\u001b[0m \u001b[38;5;28;01mif\u001b[39;00m \u001b[38;5;28;01mTrue\u001b[39;00m:\n\u001b[0;32m---> 18\u001b[0m     scn \u001b[38;5;241m=\u001b[39m \u001b[43mScene\u001b[49m\u001b[43m(\u001b[49m\u001b[43mifiles_l15\u001b[49m\u001b[43m,\u001b[49m\u001b[43m \u001b[49m\u001b[43mreader\u001b[49m\u001b[38;5;241;43m=\u001b[39;49m\u001b[38;5;124;43m'\u001b[39;49m\u001b[38;5;124;43mfci_l1c_nc\u001b[39;49m\u001b[38;5;124;43m'\u001b[39;49m\u001b[43m)\u001b[49m\n\u001b[1;32m     19\u001b[0m     scn\u001b[38;5;241m.\u001b[39mload([comp], generate\u001b[38;5;241m=\u001b[39m\u001b[38;5;28;01mFalse\u001b[39;00m)\n\u001b[1;32m     20\u001b[0m     scn2 \u001b[38;5;241m=\u001b[39m scn\u001b[38;5;241m.\u001b[39mchunk(chunks\u001b[38;5;241m=\u001b[39m(\u001b[38;5;241m696\u001b[39m\u001b[38;5;241m*\u001b[39m\u001b[38;5;241m2\u001b[39m, \u001b[38;5;241m696\u001b[39m\u001b[38;5;241m*\u001b[39m\u001b[38;5;241m2\u001b[39m))\n",
      "File \u001b[0;32m~/dev/PYFires/.venv/lib/python3.10/site-packages/satpy/scene.py:155\u001b[0m, in \u001b[0;36mScene.__init__\u001b[0;34m(self, filenames, reader, filter_parameters, reader_kwargs)\u001b[0m\n\u001b[1;32m    152\u001b[0m \u001b[38;5;28;01mif\u001b[39;00m filenames:\n\u001b[1;32m    153\u001b[0m     filenames \u001b[38;5;241m=\u001b[39m convert_remote_files_to_fsspec(filenames, storage_options)\n\u001b[0;32m--> 155\u001b[0m \u001b[38;5;28mself\u001b[39m\u001b[38;5;241m.\u001b[39m_readers \u001b[38;5;241m=\u001b[39m \u001b[38;5;28;43mself\u001b[39;49m\u001b[38;5;241;43m.\u001b[39;49m\u001b[43m_create_reader_instances\u001b[49m\u001b[43m(\u001b[49m\u001b[43mfilenames\u001b[49m\u001b[38;5;241;43m=\u001b[39;49m\u001b[43mfilenames\u001b[49m\u001b[43m,\u001b[49m\n\u001b[1;32m    156\u001b[0m \u001b[43m                                              \u001b[49m\u001b[43mreader\u001b[49m\u001b[38;5;241;43m=\u001b[39;49m\u001b[43mreader\u001b[49m\u001b[43m,\u001b[49m\n\u001b[1;32m    157\u001b[0m \u001b[43m                                              \u001b[49m\u001b[43mreader_kwargs\u001b[49m\u001b[38;5;241;43m=\u001b[39;49m\u001b[43mcleaned_reader_kwargs\u001b[49m\u001b[43m)\u001b[49m\n\u001b[1;32m    158\u001b[0m \u001b[38;5;28mself\u001b[39m\u001b[38;5;241m.\u001b[39m_datasets \u001b[38;5;241m=\u001b[39m DatasetDict()\n\u001b[1;32m    159\u001b[0m \u001b[38;5;28mself\u001b[39m\u001b[38;5;241m.\u001b[39m_wishlist \u001b[38;5;241m=\u001b[39m \u001b[38;5;28mset\u001b[39m()\n",
      "File \u001b[0;32m~/dev/PYFires/.venv/lib/python3.10/site-packages/satpy/scene.py:176\u001b[0m, in \u001b[0;36mScene._create_reader_instances\u001b[0;34m(self, filenames, reader, reader_kwargs)\u001b[0m\n\u001b[1;32m    171\u001b[0m \u001b[38;5;28;01mdef\u001b[39;00m \u001b[38;5;21m_create_reader_instances\u001b[39m(\u001b[38;5;28mself\u001b[39m,\n\u001b[1;32m    172\u001b[0m                              filenames\u001b[38;5;241m=\u001b[39m\u001b[38;5;28;01mNone\u001b[39;00m,\n\u001b[1;32m    173\u001b[0m                              reader\u001b[38;5;241m=\u001b[39m\u001b[38;5;28;01mNone\u001b[39;00m,\n\u001b[1;32m    174\u001b[0m                              reader_kwargs\u001b[38;5;241m=\u001b[39m\u001b[38;5;28;01mNone\u001b[39;00m):\n\u001b[1;32m    175\u001b[0m \u001b[38;5;250m    \u001b[39m\u001b[38;5;124;03m\"\"\"Find readers and return their instances.\"\"\"\u001b[39;00m\n\u001b[0;32m--> 176\u001b[0m     \u001b[38;5;28;01mreturn\u001b[39;00m \u001b[43mload_readers\u001b[49m\u001b[43m(\u001b[49m\u001b[43mfilenames\u001b[49m\u001b[38;5;241;43m=\u001b[39;49m\u001b[43mfilenames\u001b[49m\u001b[43m,\u001b[49m\n\u001b[1;32m    177\u001b[0m \u001b[43m                        \u001b[49m\u001b[43mreader\u001b[49m\u001b[38;5;241;43m=\u001b[39;49m\u001b[43mreader\u001b[49m\u001b[43m,\u001b[49m\n\u001b[1;32m    178\u001b[0m \u001b[43m                        \u001b[49m\u001b[43mreader_kwargs\u001b[49m\u001b[38;5;241;43m=\u001b[39;49m\u001b[43mreader_kwargs\u001b[49m\u001b[43m)\u001b[49m\n",
      "File \u001b[0;32m~/dev/PYFires/.venv/lib/python3.10/site-packages/satpy/readers/__init__.py:554\u001b[0m, in \u001b[0;36mload_readers\u001b[0;34m(filenames, reader, reader_kwargs)\u001b[0m\n\u001b[1;32m    537\u001b[0m \u001b[38;5;250m\u001b[39m\u001b[38;5;124;03m\"\"\"Create specified readers and assign files to them.\u001b[39;00m\n\u001b[1;32m    538\u001b[0m \n\u001b[1;32m    539\u001b[0m \u001b[38;5;124;03mArgs:\u001b[39;00m\n\u001b[0;32m   (...)\u001b[0m\n\u001b[1;32m    551\u001b[0m \n\u001b[1;32m    552\u001b[0m \u001b[38;5;124;03m\"\"\"\u001b[39;00m\n\u001b[1;32m    553\u001b[0m reader_instances \u001b[38;5;241m=\u001b[39m {}\n\u001b[0;32m--> 554\u001b[0m \u001b[38;5;28;01mif\u001b[39;00m \u001b[43m_early_exit\u001b[49m\u001b[43m(\u001b[49m\u001b[43mfilenames\u001b[49m\u001b[43m,\u001b[49m\u001b[43m \u001b[49m\u001b[43mreader\u001b[49m\u001b[43m)\u001b[49m:\n\u001b[1;32m    555\u001b[0m     \u001b[38;5;28;01mreturn\u001b[39;00m {}\n\u001b[1;32m    557\u001b[0m reader, filenames, remaining_filenames \u001b[38;5;241m=\u001b[39m _get_reader_and_filenames(reader, filenames)\n",
      "File \u001b[0;32m~/dev/PYFires/.venv/lib/python3.10/site-packages/satpy/readers/__init__.py:599\u001b[0m, in \u001b[0;36m_early_exit\u001b[0;34m(filenames, reader)\u001b[0m\n\u001b[1;32m    596\u001b[0m     \u001b[38;5;28;01mreturn\u001b[39;00m \u001b[38;5;28;01mTrue\u001b[39;00m\n\u001b[1;32m    597\u001b[0m \u001b[38;5;28;01mif\u001b[39;00m reader \u001b[38;5;129;01mand\u001b[39;00m filenames \u001b[38;5;129;01mis\u001b[39;00m \u001b[38;5;129;01mnot\u001b[39;00m \u001b[38;5;28;01mNone\u001b[39;00m \u001b[38;5;129;01mand\u001b[39;00m \u001b[38;5;129;01mnot\u001b[39;00m filenames:\n\u001b[1;32m    598\u001b[0m     \u001b[38;5;66;03m# user made a mistake in their glob pattern\u001b[39;00m\n\u001b[0;32m--> 599\u001b[0m     \u001b[38;5;28;01mraise\u001b[39;00m \u001b[38;5;167;01mValueError\u001b[39;00m(\u001b[38;5;124m\"\u001b[39m\u001b[38;5;124m'\u001b[39m\u001b[38;5;124mfilenames\u001b[39m\u001b[38;5;124m'\u001b[39m\u001b[38;5;124m was provided but is empty.\u001b[39m\u001b[38;5;124m\"\u001b[39m)\n\u001b[1;32m    600\u001b[0m \u001b[38;5;28;01mif\u001b[39;00m \u001b[38;5;129;01mnot\u001b[39;00m filenames:\n\u001b[1;32m    601\u001b[0m     LOG\u001b[38;5;241m.\u001b[39mwarning(\u001b[38;5;124m\"\u001b[39m\u001b[38;5;124m'\u001b[39m\u001b[38;5;124mfilenames\u001b[39m\u001b[38;5;124m'\u001b[39m\u001b[38;5;124m required to create readers and load data\u001b[39m\u001b[38;5;124m\"\u001b[39m)\n",
      "\u001b[0;31mValueError\u001b[0m: 'filenames' was provided but is empty."
     ]
    }
   ],
   "source": [
    "import dask\n",
    "dask.config.set(scheduler='threads') \n",
    "\n",
    "tod = 'D:/sat_data/fci/out/'\n",
    "\n",
    "\n",
    "bbox = (-1600000, -2770000, 690000, -1040000)\n",
    "\n",
    "comp = 'true_color_flames'\n",
    "\n",
    "ifiles_l15 = glob('D:/sat_data/fci/in/*FDHSI*')\n",
    "ifiles_l15.sort()\n",
    "with dask.config.set({\"array.chunk-size\": \"32MiB\"}):\n",
    "    with Profiler() as prof, ResourceProfiler(dt=0.25) as rprof:\n",
    "        st = datetime.utcnow()\n",
    "        #if not os.path.isfile(outf):\n",
    "        if True:\n",
    "            scn = Scene(ifiles_l15, reader='fci_l1c_nc')\n",
    "            scn.load([comp], generate=False)\n",
    "            scn2 = scn.chunk(chunks=(696*2, 696*2))\n",
    "           # scn.load(['ir_38'], calibration='radiance')\n",
    "            #scn.load([comp], generate=False)\n",
    "            scn3 = scn2.resample(scn2.coarsest_area(), resampler='native')\n",
    "            scn3.save_dataset(comp, base_dir=tod,  fill_value=0)\n",
    "            #scn3.save_dataset(comp, base_dir=tod, enhance=False, dtype=np.float32, fill_value=0)\n",
    "\n",
    "        en = datetime.utcnow()\n",
    "        print('\\n', (en-st).total_seconds())\n",
    "    visualize([prof, rprof], show=False, save=True, filename=\"D:/sat_data/ahi_main/frp_new.html\")"
   ]
  },
  {
   "cell_type": "code",
   "execution_count": null,
   "id": "4957fb39",
   "metadata": {},
   "outputs": [],
   "source": []
  }
 ],
 "metadata": {
  "kernelspec": {
   "display_name": ".venv",
   "language": "python",
   "name": "python3"
  },
  "language_info": {
   "codemirror_mode": {
    "name": "ipython",
    "version": 3
   },
   "file_extension": ".py",
   "mimetype": "text/x-python",
   "name": "python",
   "nbconvert_exporter": "python",
   "pygments_lexer": "ipython3",
   "version": "3.10.12"
  }
 },
 "nbformat": 4,
 "nbformat_minor": 5
}
