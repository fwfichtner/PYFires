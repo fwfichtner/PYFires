{
 "cells": [
  {
   "cell_type": "code",
   "execution_count": 1,
   "id": "e18f5209",
   "metadata": {},
   "outputs": [],
   "source": [
    "%load_ext autoreload\n",
    "%autoreload 2\n",
    "\n",
    "import dask\n",
    "dask.config.set(num_workers=20)\n",
    "\n",
    "import satpy\n",
    "satpy.config.set({'cache_dir': \"D:/sat_data/cache/\"})\n",
    "satpy.config.set({'cache_sensor_angles': True})\n",
    "satpy.config.set({'cache_lonlats': True})\n",
    "\n",
    "from dask.diagnostics import Profiler, ResourceProfiler, visualize\n",
    "from datetime import datetime\n",
    "from satpy import Scene\n",
    "from glob import glob\n",
    "import numpy as np\n",
    "import os\n",
    "\n",
    "from datetime import datetime\n",
    "\n",
    "import warnings\n",
    "warnings.filterwarnings('ignore')\n",
    "\n",
    "from satpy.utils import debug_on\n",
    "#debug_on()"
   ]
  },
  {
   "cell_type": "code",
   "execution_count": 2,
   "id": "7c933aab",
   "metadata": {
    "scrolled": false
   },
   "outputs": [
    {
     "name": "stderr",
     "output_type": "stream",
     "text": [
      "Don't know how to open the following files: {'D:/sat_data/fci/in\\\\W_XX-EUMETSAT-Darmstadt,IMG+SAT,MTI1+FCI-1C-RRAD-FDHSI-FD--CHK-TRAIL--DIS-NC4E_C_EUMT_20231120125403_IDPFI_OPE_20231120125007_20231120125924_N_JLS_C_0078_0041.nc', 'D:/sat_data/fci/in\\\\W_XX-EUMETSAT-Darmstadt,IMG+SAT,MTI1+FCI-1C-RRAD-FDHSI-FD--CHK-TRAIL---NC4E_C_EUMT_20231120125403_IDPFI_OPE_20231120125007_20231120125924_N__C_0078_0041.nc'}\n"
     ]
    },
    {
     "name": "stdout",
     "output_type": "stream",
     "text": [
      "\n",
      " 165.480195\n"
     ]
    }
   ],
   "source": [
    "import dask\n",
    "dask.config.set(scheduler='threads') \n",
    "\n",
    "tod = 'D:/sat_data/fci/out/'\n",
    "\n",
    "\n",
    "bbox = (-1600000, -2770000, 690000, -1040000)\n",
    "\n",
    "comp = 'true_color_flames'\n",
    "\n",
    "ifiles_l15 = glob('D:/sat_data/fci/in/*FDHSI*')\n",
    "ifiles_l15.sort()\n",
    "with dask.config.set({\"array.chunk-size\": \"32MiB\"}):\n",
    "    with Profiler() as prof, ResourceProfiler(dt=0.25) as rprof:\n",
    "        st = datetime.utcnow()\n",
    "        #if not os.path.isfile(outf):\n",
    "        if True:\n",
    "            scn = Scene(ifiles_l15, reader='fci_l1c_nc')\n",
    "            scn.load([comp], generate=False)\n",
    "            scn2 = scn.chunk(chunks=(696*2, 696*2))\n",
    "           # scn.load(['ir_38'], calibration='radiance')\n",
    "            #scn.load([comp], generate=False)\n",
    "            scn3 = scn2.resample(scn2.coarsest_area(), resampler='native')\n",
    "            scn3.save_dataset(comp, base_dir=tod,  fill_value=0)\n",
    "            #scn3.save_dataset(comp, base_dir=tod, enhance=False, dtype=np.float32, fill_value=0)\n",
    "\n",
    "        en = datetime.utcnow()\n",
    "        print('\\n', (en-st).total_seconds())\n",
    "    visualize([prof, rprof], show=False, save=True, filename=\"D:/sat_data/ahi_main/frp_new.html\")"
   ]
  },
  {
   "cell_type": "code",
   "execution_count": null,
   "id": "4957fb39",
   "metadata": {},
   "outputs": [],
   "source": []
  }
 ],
 "metadata": {
  "kernelspec": {
   "display_name": "Python 3 (ipykernel)",
   "language": "python",
   "name": "python3"
  },
  "language_info": {
   "codemirror_mode": {
    "name": "ipython",
    "version": 3
   },
   "file_extension": ".py",
   "mimetype": "text/x-python",
   "name": "python",
   "nbconvert_exporter": "python",
   "pygments_lexer": "ipython3",
   "version": "3.11.7"
  }
 },
 "nbformat": 4,
 "nbformat_minor": 5
}
